{
 "cells": [
  {
   "cell_type": "code",
   "execution_count": 1,
   "metadata": {
    "_cell_guid": "b1076dfc-b9ad-4769-8c92-a6c4dae69d19",
    "_uuid": "8f2839f25d086af736a60e9eeb907d3b93b6e0e5"
   },
   "outputs": [],
   "source": [
    "import math\n",
    "import numpy as np\n",
    "import pandas as pd\n",
    "from scipy.stats import multivariate_normal as m_norm\n",
    "import pickle\n",
    "import seaborn as sns\n",
    "\n",
    "from matplotlib import pyplot as plt\n",
    "PATH = '../data/' # '/kaggle/input/nfl-big-data-bowl-2020/'\n",
    "%matplotlib inline"
   ]
  },
  {
   "cell_type": "code",
   "execution_count": 2,
   "metadata": {},
   "outputs": [],
   "source": [
    "from sklearn.model_selection import TimeSeriesSplit\n",
    "import lightgbm as lgb"
   ]
  },
  {
   "cell_type": "markdown",
   "metadata": {},
   "source": [
    "# Functions and classes"
   ]
  },
  {
   "cell_type": "markdown",
   "metadata": {},
   "source": [
    "## Preprocessing"
   ]
  },
  {
   "cell_type": "code",
   "execution_count": 60,
   "metadata": {},
   "outputs": [],
   "source": [
    "def preprocess(df, is_train=True):\n",
    "    ## keep only important columns\n",
    "    cols_to_drop = ['GameId', 'DisplayName', 'JerseyNumber', 'Quarter', 'GameWeather', 'Turf', 'Down', 'Distance', \n",
    "                    'GameClock', 'Dis', 'PlayerCollegeName', 'Stadium', 'Location', 'PlayerHeight', 'PlayerWeight',\n",
    "                    'OffenseFormation', 'OffensePersonel', 'DefensePersonel', 'PlayerBirthDate', 'Position',\n",
    "                    'OffenseTeamName', 'DefenseTeamName', 'TimeHandoff', 'TimeSnap',\n",
    "                    'StadiumType', 'Temperature', 'Humidity', 'WindSpeed', 'WindDirection']\n",
    "    df.drop(cols_to_drop, axis=1, inplace=True)\n",
    "    \n",
    "    if is_train:\n",
    "        ## Adjust speed in 2017\n",
    "        S_17_std = (df[df.Season == 2017].S - df[df.Season == 2017].S.mean())/df[df.Season == 2017].S.std()\n",
    "        df.loc[df.Season == 2017, 'S'] = S_17_std * df[df.Season == 2018].S.std() + df[df.Season == 2018].S.mean()\n",
    "    \n",
    "        ## Adjust acceleration in 2018\n",
    "        A_17_std = (df[df.Season == 2017].A - df[df.Season == 2017].A.mean())/df[df.Season == 2017].A.std()\n",
    "        df.loc[df.Season == 2017, 'A'] = A_17_std * df[df.Season == 2018].A.std() + df[df.Season == 2018].A.mean()\n",
    "\n",
    "    ## Fix abbreviations\n",
    "    df.loc[df.HomeTeamAbbr == \"ARI\", 'HomeTeamAbbr'] = \"ARZ\"\n",
    "    df.loc[df.HomeTeamAbbr == \"BAL\", 'HomeTeamAbbr'] = \"BLT\"\n",
    "    df.loc[df.HomeTeamAbbr == \"CLE\", 'HomeTeamAbbr'] = \"CLV\"\n",
    "    df.loc[df.HomeTeamAbbr == \"HOU\", 'HomeTeamAbbr'] = \"HST\"\n",
    "    \n",
    "    df.loc[df.VisitorTeamAbbr == \"ARI\", 'VisitorTeamAbbr'] = \"ARZ\"\n",
    "    df.loc[df.VisitorTeamAbbr == \"BAL\", 'VisitorTeamAbbr'] = \"BLT\"\n",
    "    df.loc[df.VisitorTeamAbbr == \"CLE\", 'VisitorTeamAbbr'] = \"CLV\"\n",
    "    df.loc[df.VisitorTeamAbbr == \"HOU\", 'VisitorTeamAbbr'] = \"HST\"\n",
    "    \n",
    "    # Is player on offense or not?\n",
    "    df['ToLeft'] = df.PlayDirection == \"left\"\n",
    "    df['IsBallCarrier'] = df.NflId == df.NflIdRusher\n",
    "    df['TeamOnOffense'] = \"home\"\n",
    "    df.loc[df.PossessionTeam != df.HomeTeamAbbr, 'TeamOnOffense'] = \"away\"\n",
    "    df['IsOnOffense'] = df.Team == df.TeamOnOffense\n",
    "    df['OffenseTeamName'] = np.where(df.TeamOnOffense == 'home', \n",
    "                                     df.HomeTeamAbbr, df.VisitorTeamAbbr)\n",
    "    df['DefenseTeamName'] = np.where(df.TeamOnOffense == 'away', \n",
    "                                     df.HomeTeamAbbr, df.VisitorTeamAbbr)\n",
    "\n",
    "    ## fix YardLine \n",
    "    df['YardLine_std'] = 100 - df.YardLine\n",
    "    cond = df.FieldPosition.fillna('') == df.PossessionTeam\n",
    "    df.loc[cond, 'YardLine_std'] = df.loc[cond, 'YardLine']\n",
    "\n",
    "    ## fix X, Y\n",
    "    df['X_std'] = df.X\n",
    "    df.loc[df.ToLeft, 'X_std'] = 120 - df.loc[df.ToLeft, 'X'] \n",
    "    df['Y_std'] = df.Y\n",
    "    df.loc[df.ToLeft, 'Y_std'] = 160/3 - df.loc[df.ToLeft, 'Y'] \n",
    "\n",
    "    ## fix Dir\n",
    "    df['Dir_rad'] = np.mod(90 - df.Dir, 360) * math.pi/180.0 \n",
    "    df['Dir_std'] = df.Dir_rad\n",
    "    df.loc[df.ToLeft, 'Dir_std'] = np.mod(np.pi + df.loc[df.ToLeft, 'Dir_rad'], 2*np.pi)\n",
    "\n",
    "    ## fix Orientation\n",
    "    df['Orientation_rad'] = np.mod(df.Orientation, 360) * math.pi/180.0\n",
    "    df.loc[df.Season >= 2018, \n",
    "           'Orientation_rad'] = np.mod(df.loc[df.Season >= 2018, 'Orientation'] - 90, 360) * math.pi/180.0\n",
    "    df['Orientation_std'] = df.Orientation_rad\n",
    "    df.loc[df.ToLeft, 'Orientation_std'] = np.mod(np.pi + df.loc[df.ToLeft, 'Orientation_rad'], 2*np.pi)\n",
    "\n",
    "    ## drop unnesessary columns\n",
    "    cols_to_drop = ['PlayDirection', 'NflId', 'NflIdRusher', 'FieldPosition', \n",
    "                    'Team', 'PossessionTeam', 'HomeTeamAbbr', 'VisitorTeamAbbr', 'TeamOnOffense', 'ToLeft', \n",
    "                    'YardLine', 'X', 'Y', 'Dir', 'Dir_rad', 'Orientation', 'Orientation_rad']\n",
    "    df.drop(cols_to_drop, axis=1, inplace=True)\n",
    "    \n",
    "    ## fill NaNs\n",
    "    for col in ['DefendersInTheBox', 'Dir_std', 'Orientation_std']:\n",
    "        df[col].fillna(df[col].median(), inplace=True)\n",
    "    return df"
   ]
  },
  {
   "cell_type": "markdown",
   "metadata": {},
   "source": [
    "## FE"
   ]
  },
  {
   "cell_type": "markdown",
   "metadata": {},
   "source": [
    "### Pitch control features"
   ]
  },
  {
   "cell_type": "code",
   "execution_count": 4,
   "metadata": {},
   "outputs": [],
   "source": [
    "def get_influence_radius(dist, min_rad=4, max_rad=10, dist_threshold=20):\n",
    "    if dist <= dist_threshold:\n",
    "        return min_rad + (max_rad - min_rad) * (dist/dist_threshold)**2\n",
    "    else:\n",
    "        return max_rad"
   ]
  },
  {
   "cell_type": "code",
   "execution_count": 5,
   "metadata": {},
   "outputs": [],
   "source": [
    "def get_player_influence(row, row_rusher, delta_t=1, S_max=10, eps=1e-6):\n",
    "    ## calc distribution mean\n",
    "    mean = [row.X_std + delta_t * row.S * np.cos(row.Dir_std)/2, \n",
    "            row.Y_std + delta_t * row.S * np.sin(row.Dir_std)/2]\n",
    "    \n",
    "    ## calc distribution covariance matrix\n",
    "    dist_to_rusher = np.sqrt((row.X_std - row_rusher.X_std)**2 + (row.Y_std - row_rusher.Y_std)**2)\n",
    "    inf_radius = get_influence_radius(dist_to_rusher)\n",
    "    R = np.array([[np.cos(row.Dir_std), -np.sin(row.Dir_std)], \n",
    "                  [np.sin(row.Dir_std), np.cos(row.Dir_std)]])\n",
    "    S = np.array([[inf_radius * (1 + (row.S/S_max)**2)/2, 0], \n",
    "                  [0, inf_radius * (1 - (row.S/S_max)**2)/2]])\n",
    "    cov = np.dot(np.dot(R, S), np.dot(S, np.linalg.inv(R)))\n",
    "    \n",
    "    ## calc and return normed pdf\n",
    "    denom = m_norm.pdf([row.X_std, row.Y_std], mean=mean, cov=cov)\n",
    "    influence = lambda x: m_norm.pdf(x, mean=mean, cov=cov)/(denom + eps)\n",
    "    return influence "
   ]
  },
  {
   "cell_type": "code",
   "execution_count": 6,
   "metadata": {},
   "outputs": [],
   "source": [
    "def get_pitch_control(df_play, delta_t=1):\n",
    "    row_rusher = df_play[df_play.IsBallCarrier].iloc[0]\n",
    "    \n",
    "    ## get offense and defense player influences\n",
    "    get_inf = lambda row: get_player_influence(row, row_rusher, delta_t=delta_t)\n",
    "    cond = (df_play.IsOnOffense) & (df_play.IsBallCarrier == False)\n",
    "    offense_infs = df_play[cond].apply(get_inf, axis=1).values\n",
    "    defense_infs = df_play[df_play.IsOnOffense == False].apply(get_inf, axis=1).values \n",
    "    \n",
    "    ## get offense and defense pc\n",
    "    offense_pc = lambda x: sum([inf(x) for inf in offense_infs]) \n",
    "    defense_pc = lambda x: sum([inf(x) for inf in defense_infs])\n",
    "    return (offense_pc, defense_pc)"
   ]
  },
  {
   "cell_type": "code",
   "execution_count": 8,
   "metadata": {},
   "outputs": [],
   "source": [
    "def get_ifo_rusher_pc(row_rusher, offset=0.5, r=0.5):\n",
    "    X, Y, S, Dir = row_rusher.X_std, row_rusher.Y_std, row_rusher.S, row_rusher.Dir_std\n",
    "    pc = row_rusher.pitch_control\n",
    "    sign = 1 if np.sin(Dir) >= 0 else -1\n",
    "    center = (X + offset * S * np.cos(Dir), Y + offset * S * np.sin(Dir))\n",
    "    def_side = (center[0] + r * S, center[1])\n",
    "    off_side = (center[0], center[1] + sign * r * S)\n",
    "    return (pc[0](center), pc[1](center), pc[1](def_side), pc[1](off_side))"
   ]
  },
  {
   "cell_type": "code",
   "execution_count": null,
   "metadata": {},
   "outputs": [],
   "source": [
    "def get_scrimmage_pc()"
   ]
  },
  {
   "cell_type": "markdown",
   "metadata": {},
   "source": [
    "### Main function"
   ]
  },
  {
   "cell_type": "code",
   "execution_count": 33,
   "metadata": {},
   "outputs": [],
   "source": [
    "def prepare_features(df, df_play):\n",
    "    ## Speed features\n",
    "    df_play['rusher_speed_x'] = df_play.S * np.cos(df_play.Dir_std)\n",
    "    \n",
    "    ## Distance features\n",
    "    df_play['scrimmage_dist'] = df_play.X_std - df_play.YardLine_std\n",
    "    \n",
    "    ## Pitch control features\n",
    "    g = df.groupby('PlayId').apply(get_pitch_control)\n",
    "    df_play['pitch_control'] = df_play.PlayId.map(g)\n",
    "    ifo_rusher_pc = df_play.apply(get_ifo_rusher_pc, axis=1)\n",
    "    df_play['ifo_rusher_pc_offense_center'] = ifo_rusher_pc.apply(lambda x:x[0])\n",
    "    df_play['ifo_rusher_pc_defense_center'] = ifo_rusher_pc.apply(lambda x:x[1])\n",
    "    df_play['ifo_rusher_pc_defense_defside'] = ifo_rusher_pc.apply(lambda x:x[2])\n",
    "    df_play['ifo_rusher_pc_defense_offside'] = ifo_rusher_pc.apply(lambda x:x[3])\n",
    "    \n",
    "    return df, df_play"
   ]
  },
  {
   "cell_type": "markdown",
   "metadata": {},
   "source": [
    "## Modelling and evaluation"
   ]
  },
  {
   "cell_type": "code",
   "execution_count": 12,
   "metadata": {},
   "outputs": [],
   "source": [
    "class MultiLGBMClassifier():\n",
    "    def __init__(self, model, resolution):\n",
    "        ## smoothing size\n",
    "        self.resolution = resolution\n",
    "        ## initiarize models\n",
    "        params = model.get_params()\n",
    "        self.models = [lgb.LGBMClassifier(**params) for m in range(resolution)]\n",
    "        \n",
    "    def fit(self, x, y):\n",
    "        self.classes_list = []\n",
    "        for k in range(self.resolution):\n",
    "            ## train each model\n",
    "            self.models[k].fit(x, (y + k) // self.resolution)\n",
    "            \n",
    "            ## (0,1,2,3,4,5,6,7,8,9) -> (0,0,0,0,0,1,1,1,1,1) -> (0,5)\n",
    "            classes = np.sort(list(set((y + k) // self.resolution))) * self.resolution - k\n",
    "            classes = np.append(classes, 999)\n",
    "            self.classes_list.append(classes)\n",
    "            \n",
    "    def plot_importances(self, column_names, importances=[], h_size=15, v_size=20):\n",
    "        FI = pd.DataFrame()\n",
    "        FI[\"names\"] = column_names\n",
    "        if len(importances) == 0:\n",
    "            FI[\"importances\"] = self.models[0].feature_importances_\n",
    "        else:\n",
    "            FI[\"importances\"] = importances\n",
    "        plt.figure(figsize=(h_size, v_size))\n",
    "        sns.barplot(data=FI.sort_values(by=\"importances\", ascending=False), \n",
    "                    x=\"importances\", y=\"names\")\n",
    "        plt.title(\"Feature importances\")\n",
    "    \n",
    "    def predict_proba(self, x):\n",
    "        pred199_list = []\n",
    "        for k in range(self.resolution):\n",
    "            preds = self.models[k].predict_proba(x)\n",
    "            classes = self.classes_list[k]\n",
    "            pred199s = self.get_pred199(preds, classes)\n",
    "            pred199_list.append(pred199s)\n",
    "        self.pred199_list = pred199_list\n",
    "        pred199_ens = np.mean(np.stack(pred199_list), axis = 0)\n",
    "        return pred199_ens\n",
    "    \n",
    "    def _get_pred199(self, p, classes):\n",
    "        ## categorical prediction -> predicted distribution whose length is 199\n",
    "        pred199 = np.zeros(199)\n",
    "        for k in range(len(p)):\n",
    "            pred199[classes[k] + 99 : classes[k+1] + 99] = p[k]\n",
    "        return pred199\n",
    "\n",
    "    def get_pred199(self, preds, classes):\n",
    "        pred199s = []\n",
    "        for p in preds:\n",
    "            pred199 = np.cumsum(self._get_pred199(p, classes))\n",
    "            pred199 = pred199/np.max(pred199)\n",
    "            pred199s.append(pred199)\n",
    "        return np.vstack(pred199s)"
   ]
  },
  {
   "cell_type": "code",
   "execution_count": 13,
   "metadata": {},
   "outputs": [],
   "source": [
    "def srps_score(y_true, y_pred, predict_type='pdf'):\n",
    "    score = 0\n",
    "    if predict_type == 'pdf':\n",
    "        y_pred_cumsum = np.cumsum(y_pred, axis=1)\n",
    "    else:\n",
    "        y_pred_cumsum = np.array(y_pred)\n",
    "    for n in range(199):\n",
    "         score += ((y_pred_cumsum[:, n] - np.where(n - 99 >= y_true, 1, 0))**2).sum()\n",
    "    return score/(199 * len(y_true))"
   ]
  },
  {
   "cell_type": "code",
   "execution_count": 14,
   "metadata": {},
   "outputs": [],
   "source": [
    "def evaluate_model(model, df, features, print_process=True, \n",
    "                   cv_type='last_year', predict_type='pdf', n_splits=5):\n",
    "    scores = []\n",
    "    if cv_type == 'last_year':\n",
    "        X_train = df.loc[df.Season == 2017, features].values\n",
    "        y_train = df.loc[df.Season == 2017, 'Yards'].values\n",
    "        model.fit(X_train, y_train)\n",
    "        for week in range(df.Week.min(), df.Week.max() + 1):\n",
    "            X_valid = df.loc[(df.Season == 2018) & (df.Week == week), \n",
    "                             features].values\n",
    "            y_valid = df.loc[(df.Season == 2018) & (df.Week == week), \n",
    "                             'Yards'].values\n",
    "            y_pred = model.predict_proba(X_valid)\n",
    "            score = srps_score(y_valid, y_pred, \n",
    "                               predict_type=predict_type)\n",
    "            if print_process:\n",
    "                print(\"SRPS =\", score, \" on week\", week)\n",
    "            scores.append(score)\n",
    "    elif cv_type == 'tss':\n",
    "        X_17 = df.loc[df.Season == 2017, features].values\n",
    "        y_17 = df.loc[df.Season == 2017, 'Yards'].values\n",
    "        X_18 = df.loc[df.Season == 2018, features].values\n",
    "        y_18 = df.loc[df.Season == 2018, 'Yards'].values\n",
    "        cv = TimeSeriesSplit(n_splits=n_splits)\n",
    "        cnt = 1\n",
    "        for tr_index, val_index in cv.split(X_18):\n",
    "            model.fit(np.vstack((X_17, X_18[tr_index])), \n",
    "                      np.hstack((y_17, y_18[tr_index])))\n",
    "            y_pred = model.predict_proba(X_18[val_index])\n",
    "            score = srps_score(y_18[val_index], y_pred, \n",
    "                               predict_type=predict_type)\n",
    "            if print_process:\n",
    "                print(\"SRPS =\", score, \" on fold\", cnt)\n",
    "            scores.append(score)\n",
    "            cnt += 1\n",
    "            \n",
    "    scores = np.array(scores)\n",
    "    if print_process:\n",
    "        print(\"Mean SRPS:\", scores.mean())\n",
    "        print(\"Std of SRPS:\", scores.std())\n",
    "    return scores"
   ]
  },
  {
   "cell_type": "code",
   "execution_count": 80,
   "metadata": {},
   "outputs": [],
   "source": [
    "def plot_custom_importances(model, df, features, scores=[], v_size=5, cv_type='last_year', predict_type='pdf'):\n",
    "    ## Calc score with every feature\n",
    "    if len(scores) == 0:\n",
    "        scores_with = evaluate_model(model, df, features, print_process=False, \n",
    "                                     cv_type=cv_type, predict_type=predict_type)\n",
    "    else:\n",
    "        scores_with = np.array(scores)\n",
    "        \n",
    "    # Calc score without fixed feature\n",
    "    importances = []\n",
    "    for col in features:\n",
    "        print('Checking', col, '...')\n",
    "        other_features = list(features)\n",
    "        other_features.remove(col)\n",
    "        scores_without = evaluate_model(model, df, other_features, print_process=False, \n",
    "                                        cv_type=cv_type, predict_type=predict_type)\n",
    "        scores_diff = scores_without - scores_with\n",
    "        importances.append(scores_diff.mean())\n",
    "        \n",
    "    # plot importances\n",
    "    model.plot_importances(features, importances=importances, v_size=v_size)"
   ]
  },
  {
   "cell_type": "markdown",
   "metadata": {},
   "source": [
    "# Preprocessing and FE"
   ]
  },
  {
   "cell_type": "code",
   "execution_count": 16,
   "metadata": {
    "collapsed": true
   },
   "outputs": [
    {
     "name": "stdout",
     "output_type": "stream",
     "text": [
      "<class 'pandas.core.frame.DataFrame'>\n",
      "Int64Index: 23171 entries, 18 to 509761\n",
      "Data columns (total 23 columns):\n",
      "PlayId                    23171 non-null int64\n",
      "S                         23171 non-null float64\n",
      "A                         23171 non-null float64\n",
      "Season                    23171 non-null int64\n",
      "HomeScoreBeforePlay       23171 non-null int64\n",
      "VisitorScoreBeforePlay    23171 non-null int64\n",
      "OffenseFormation          23166 non-null object\n",
      "OffensePersonnel          23171 non-null object\n",
      "DefendersInTheBox         23171 non-null float64\n",
      "DefensePersonnel          23171 non-null object\n",
      "TimeHandoff               23171 non-null object\n",
      "TimeSnap                  23171 non-null object\n",
      "Yards                     23171 non-null int64\n",
      "PlayerBirthDate           23171 non-null object\n",
      "Position                  23171 non-null object\n",
      "Week                      23171 non-null int64\n",
      "OffenseTeamName           23171 non-null object\n",
      "DefenseTeamName           23171 non-null object\n",
      "YardLine_std              23171 non-null int64\n",
      "X_std                     23171 non-null float64\n",
      "Y_std                     23171 non-null float64\n",
      "Dir_std                   23171 non-null float64\n",
      "Orientation_std           23171 non-null float64\n",
      "dtypes: float64(7), int64(7), object(9)\n",
      "memory usage: 4.2+ MB\n",
      "CPU times: user 13.9 s, sys: 629 ms, total: 14.6 s\n",
      "Wall time: 17 s\n"
     ]
    }
   ],
   "source": [
    "%%time\n",
    "df = pd.read_csv(PATH + 'train.csv', low_memory=False)\n",
    "df = preprocess(df)\n",
    "df.to_csv('../data/train_preprocessed.csv', index=False)\n",
    "df_play = df[df.IsBallCarrier].drop(['IsOnOffense', 'IsBallCarrier'], axis=1)\n",
    "df_play.info()"
   ]
  },
  {
   "cell_type": "code",
   "execution_count": 17,
   "metadata": {},
   "outputs": [
    {
     "name": "stdout",
     "output_type": "stream",
     "text": [
      "CPU times: user 10min 20s, sys: 2min 16s, total: 12min 37s\n",
      "Wall time: 7min 40s\n"
     ]
    }
   ],
   "source": [
    "%%time\n",
    "df, df_play = prepare_features(df, df_play)"
   ]
  },
  {
   "cell_type": "code",
   "execution_count": 70,
   "metadata": {},
   "outputs": [
    {
     "name": "stdout",
     "output_type": "stream",
     "text": [
      "<class 'pandas.core.frame.DataFrame'>\n",
      "Int64Index: 23171 entries, 18 to 509761\n",
      "Data columns (total 8 columns):\n",
      "YardLine_std                     23171 non-null int64\n",
      "DefendersInTheBox                23171 non-null float64\n",
      "rusher_speed_x                   23171 non-null float64\n",
      "ifo_rusher_pc_offense_center     23171 non-null float64\n",
      "ifo_rusher_pc_defense_offside    23171 non-null float64\n",
      "ifo_rusher_pc_defense_center     23171 non-null float64\n",
      "ifo_rusher_pc_defense_defside    23171 non-null float64\n",
      "scrimmage_dist                   23171 non-null float64\n",
      "dtypes: float64(7), int64(1)\n",
      "memory usage: 1.6 MB\n"
     ]
    }
   ],
   "source": [
    "final_features = ['YardLine_std', 'DefendersInTheBox', 'rusher_speed_x', \n",
    "                  'ifo_rusher_pc_offense_center', 'ifo_rusher_pc_defense_offside',\n",
    "                  'ifo_rusher_pc_defense_center', 'ifo_rusher_pc_defense_defside',\n",
    "                  'scrimmage_dist']\n",
    "df_play[final_features].info()"
   ]
  },
  {
   "cell_type": "markdown",
   "metadata": {},
   "source": [
    "# Modelling"
   ]
  },
  {
   "cell_type": "markdown",
   "metadata": {},
   "source": [
    "## Load evaluation result of previous solution"
   ]
  },
  {
   "cell_type": "code",
   "execution_count": 71,
   "metadata": {},
   "outputs": [
    {
     "name": "stdout",
     "output_type": "stream",
     "text": [
      "Previous score (x100) is 1.3871010006302504\n"
     ]
    }
   ],
   "source": [
    "with open('../data/solution_score.pkl', 'rb') as fout:\n",
    "    solution_scores = pickle.load(fout)\n",
    "print('Previous score (x100) is', 100 * solution_scores['v3'].mean())"
   ]
  },
  {
   "cell_type": "markdown",
   "metadata": {},
   "source": [
    "## Evaluate model"
   ]
  },
  {
   "cell_type": "code",
   "execution_count": 111,
   "metadata": {},
   "outputs": [],
   "source": [
    "lgb_classifier = lgb.LGBMClassifier(n_estimators=70, \n",
    "                                    learning_rate=0.1, \n",
    "                                    num_leaves=25, \n",
    "                                    max_depth=6,\n",
    "                                    min_child_weight=5,\n",
    "                                    subsample=0.8,\n",
    "                                    colsample_bytree=0.8,\n",
    "                                    objective='multiclass',\n",
    "                                    reg_alpha=0.3, \n",
    "                                    reg_lambda=0.3,\n",
    "                                    random_state=42)\n",
    "mlt_classifier = MultiLGBMClassifier(lgb_classifier, resolution=1)"
   ]
  },
  {
   "cell_type": "code",
   "execution_count": 112,
   "metadata": {},
   "outputs": [
    {
     "name": "stdout",
     "output_type": "stream",
     "text": [
      "SRPS = 0.014053584836552304  on fold 1\n",
      "SRPS = 0.013472738194974085  on fold 2\n",
      "SRPS = 0.014098275533361269  on fold 3\n",
      "SRPS = 0.01382350472785411  on fold 4\n",
      "SRPS = 0.013304191907784181  on fold 5\n",
      "Mean SRPS: 0.01375045904010519\n",
      "Std of SRPS: 0.00031447748891191493\n",
      "CPU times: user 55.8 s, sys: 408 ms, total: 56.2 s\n",
      "Wall time: 15.2 s\n"
     ]
    }
   ],
   "source": [
    "%%time\n",
    "scores = evaluate_model(mlt_classifier, df_play, final_features, \n",
    "                        cv_type='tss', predict_type='cdf', n_splits=5)"
   ]
  },
  {
   "cell_type": "code",
   "execution_count": 113,
   "metadata": {},
   "outputs": [
    {
     "name": "stdout",
     "output_type": "stream",
     "text": [
      "Mean score (x100) is 1.375045904010519\n"
     ]
    }
   ],
   "source": [
    "print(\"Mean score (x100) is\", scores.mean() * 100)"
   ]
  },
  {
   "cell_type": "markdown",
   "metadata": {},
   "source": [
    "## Feature importances"
   ]
  },
  {
   "cell_type": "code",
   "execution_count": 75,
   "metadata": {
    "scrolled": true
   },
   "outputs": [
    {
     "data": {
      "image/png": "[encoded data removed]",
      "text/plain": [
       "<Figure size 1080x360 with 1 Axes>"
      ]
     },
     "metadata": {
      "needs_background": "light"
     },
     "output_type": "display_data"
    }
   ],
   "source": [
    "mlt_classifier.plot_importances(final_features, v_size=5)"
   ]
  },
  {
   "cell_type": "code",
   "execution_count": 81,
   "metadata": {},
   "outputs": [
    {
     "name": "stdout",
     "output_type": "stream",
     "text": [
      "Checking YardLine_std ...\n",
      "Checking DefendersInTheBox ...\n",
      "Checking rusher_speed_x ...\n",
      "Checking ifo_rusher_pc_offense_center ...\n",
      "Checking ifo_rusher_pc_defense_offside ...\n",
      "Checking ifo_rusher_pc_defense_center ...\n",
      "Checking ifo_rusher_pc_defense_defside ...\n",
      "Checking scrimmage_dist ...\n",
      "CPU times: user 8min 21s, sys: 3.58 s, total: 8min 25s\n",
      "Wall time: 2min 23s\n"
     ]
    },
    {
     "data": {
      "image/png": "[encoded data removed]",
      "text/plain": [
       "<Figure size 1080x360 with 1 Axes>"
      ]
     },
     "metadata": {
      "needs_background": "light"
     },
     "output_type": "display_data"
    }
   ],
   "source": [
    "%%time\n",
    "plot_custom_importances(mlt_classifier, df_play, final_features, scores=scores,\n",
    "                        v_size=5, cv_type='tss', predict_type='cdf')"
   ]
  },
  {
   "cell_type": "markdown",
   "metadata": {},
   "source": [
    "## Save evaluation result"
   ]
  },
  {
   "cell_type": "code",
   "execution_count": 44,
   "metadata": {},
   "outputs": [
    {
     "name": "stdout",
     "output_type": "stream",
     "text": [
      "v4 score (x100) is better on 0.011754665471169247 then v3 score (x100)\n"
     ]
    }
   ],
   "source": [
    "solution_scores['v4'] = scores\n",
    "with open('../data/solution_score.pkl', 'wb') as fout:\n",
    "    pickle.dump(solution_scores, fout, protocol=pickle.HIGHEST_PROTOCOL)\n",
    "    \n",
    "print(\"v4 score (x100) is better on\", 100 * (solution_scores['v3'].mean() - scores.mean()), \n",
    "      'then v3 score (x100)')"
   ]
  },
  {
   "cell_type": "markdown",
   "metadata": {},
   "source": [
    "## Fit model"
   ]
  },
  {
   "cell_type": "code",
   "execution_count": 168,
   "metadata": {},
   "outputs": [
    {
     "name": "stdout",
     "output_type": "stream",
     "text": [
      "CPU times: user 2.29 s, sys: 19.7 ms, total: 2.31 s\n",
      "Wall time: 760 ms\n"
     ]
    }
   ],
   "source": [
    "%%time\n",
    "X_train = df_play[final_features].values\n",
    "y_train = df_play.Yards.values\n",
    "mlt_classifier.fit(X_train, y_train)"
   ]
  },
  {
   "cell_type": "markdown",
   "metadata": {},
   "source": [
    "# Predict on test"
   ]
  },
  {
   "cell_type": "code",
   "execution_count": null,
   "metadata": {},
   "outputs": [],
   "source": [
    "from kaggle.competitions import nflrush\n",
    "env = nflrush.make_env()\n",
    "columns = ['Yards' + str(i) for i in range(-99, 100)]\n",
    "\n",
    "for df_test, _ in env.iter_test():\n",
    "    ## preprocessing\n",
    "    df_test = preprocess(df_test, is_train=False)\n",
    "    df_play_test = df_test[df_test.IsBallCarrier].drop(['IsOnOffense', 'IsBallCarrier'], axis=1)\n",
    "    \n",
    "    ## FE\n",
    "    df_test, df_play_test = prepare_features(df_test, df_play_test)\n",
    "    \n",
    "    ## predictions\n",
    "    X_test = df_play_test[final_features].values\n",
    "    y_pred = mlt_classifier.predict_proba(X_test)\n",
    "    env.predict(pd.DataFrame(y_pred, columns=columns))\n",
    "env.write_submission_file()"
   ]
  }
 ],
 "metadata": {
  "kernelspec": {
   "display_name": "Python 3",
   "language": "python",
   "name": "python3"
  },
  "language_info": {
   "codemirror_mode": {
    "name": "ipython",
    "version": 3
   },
   "file_extension": ".py",
   "mimetype": "text/x-python",
   "name": "python",
   "nbconvert_exporter": "python",
   "pygments_lexer": "ipython3",
   "version": "3.6.8"
  }
 },
 "nbformat": 4,
 "nbformat_minor": 1
}
