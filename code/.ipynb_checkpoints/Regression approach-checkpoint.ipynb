{
 "cells": [
  {
   "cell_type": "code",
   "execution_count": 1,
   "metadata": {},
   "outputs": [],
   "source": [
    "import numpy as np\n",
    "import pandas as pd\n",
    "from sklearn.ensemble import ExtraTreesRegressor\n",
    "from sklearn.neighbors import KernelDensity\n",
    "\n",
    "from matplotlib import pyplot as plt\n",
    "%matplotlib inline"
   ]
  },
  {
   "cell_type": "markdown",
   "metadata": {},
   "source": [
    "**With regression, we need to somehow translate the Yards predictions into a probability distribution. The class below implements another way to achieve this: it cuts the regressor predictions into (10) parts, and then directly estimates the conditional distribution of Yards given the predictions.**\n",
    "\n",
    "It is important to use holdout predictions that do not overfit the train set. Note that the Yards are log-transformed to have a nicer distribution for the regression target, and that conditional distributions are slightly smoothed by a kernel density estimator."
   ]
  },
  {
   "cell_type": "code",
   "execution_count": 2,
   "metadata": {
    "_cell_guid": "b1076dfc-b9ad-4769-8c92-a6c4dae69d19",
    "_uuid": "8f2839f25d086af736a60e9eeb907d3b93b6e0e5"
   },
   "outputs": [],
   "source": [
    "class RegressorConditional:\n",
    "    def get_o_cat(self, o):\n",
    "        return np.sum([o>pct for pct in self.percentiles], axis=0)\n",
    "    def __init__(self, model=ExtraTreesRegressor(\n",
    "        n_estimators=50, n_jobs=-1, bootstrap=True, oob_score=True)):\n",
    "        self.model = model\n",
    "    def fit(self, X, y):\n",
    "        targ = np.where(y>=0, np.log(1+np.abs(y)), -np.log(1+np.abs(y)))\n",
    "        self.model.fit(X, targ)\n",
    "        o = self.model.oob_prediction_\n",
    "        self.percentiles = np.percentile(o, list(range(1, 100, 1)))\n",
    "        o_cat = self.get_o_cat(o)\n",
    "        self.dist = {}\n",
    "        for oc in range(len(self.percentiles) + 1):\n",
    "            filt = [oi==oc for oi in o_cat]\n",
    "            kde = KernelDensity(kernel='exponential', metric='manhattan', bandwidth=0.3)\n",
    "            kde.fit(list(zip(y[filt])))\n",
    "            self.dist[oc] = np.exp(kde.score_samples(list(zip(range(-99, 100)))))\n",
    "            self.dist[oc] /= sum(self.dist[oc])\n",
    "    def predict_proba(self, X):\n",
    "        o = self.model.predict(X)\n",
    "        o_cat = self.get_o_cat(o)\n",
    "        return np.array([self.dist[oc] for oc in o_cat])"
   ]
  },
  {
   "cell_type": "markdown",
   "metadata": {},
   "source": [
    "> **Use all numeric features without any preprocessing**"
   ]
  },
  {
   "cell_type": "code",
   "execution_count": 27,
   "metadata": {
    "_cell_guid": "79c7e3d0-c299-4dcb-8224-4455121ee9b0",
    "_uuid": "d629ff2d2480ee46fbb7e2d37f6b5fab8052498a"
   },
   "outputs": [],
   "source": [
    "df = pd.read_csv('/kaggle/input/nfl-big-data-bowl-2020/train.csv', low_memory=False).select_dtypes(include=np.number)\n",
    "df_play = df[df.NflId==df.NflIdRusher].copy()\n",
    "\n",
    "features = df_play.drop(['GameId', 'PlayId', \n",
    "                         'NflIdRusher', 'Yards'], axis=1).select_dtypes(include=np.number).columns.tolist()"
   ]
  },
  {
   "cell_type": "code",
   "execution_count": 53,
   "metadata": {},
   "outputs": [
    {
     "data": {
      "text/plain": [
       "(-14, 99)"
      ]
     },
     "execution_count": 53,
     "metadata": {},
     "output_type": "execute_result"
    }
   ],
   "source": [
    "yards = df_play.Yards\n",
    "yards.min(), yards.max()"
   ]
  },
  {
   "cell_type": "markdown",
   "metadata": {},
   "source": [
    "**Train the model and have a look at the conditional distributions**"
   ]
  },
  {
   "cell_type": "code",
   "execution_count": 39,
   "metadata": {},
   "outputs": [
    {
     "name": "stdout",
     "output_type": "stream",
     "text": [
      "CPU times: user 10.7 s, sys: 0 ns, total: 10.7 s\n",
      "Wall time: 5.98 s\n"
     ]
    }
   ],
   "source": [
    "%%time\n",
    "model = RegressorConditional()\n",
    "model.fit(df_play[features].fillna(-999), df_play.Yards)"
   ]
  },
  {
   "cell_type": "markdown",
   "metadata": {},
   "source": [
    "**Apply it to the test set**"
   ]
  },
  {
   "cell_type": "markdown",
   "metadata": {},
   "source": [
    "from kaggle.competitions import nflrush\n",
    "\n",
    "names = dict(zip(range(199), ['Yards%d' % i for i in range(-99, 100)]))\n",
    "\n",
    "env = nflrush.make_env()\n",
    "for df_test, _ in env.iter_test():\n",
    "    env.predict(pd.DataFrame([np.clip(np.cumsum(\n",
    "        model.predict_proba(df_test[df_test.NflId==df_test.NflIdRusher][features].fillna(-999))\n",
    "    ), 0, 1)]).rename(names, axis=1))\n",
    "env.write_submission_file()"
   ]
  },
  {
   "cell_type": "code",
   "execution_count": null,
   "metadata": {},
   "outputs": [],
   "source": []
  }
 ],
 "metadata": {
  "kernelspec": {
   "display_name": "Python 3",
   "language": "python",
   "name": "python3"
  },
  "language_info": {
   "codemirror_mode": {
    "name": "ipython",
    "version": 3
   },
   "file_extension": ".py",
   "mimetype": "text/x-python",
   "name": "python",
   "nbconvert_exporter": "python",
   "pygments_lexer": "ipython3",
   "version": "3.6.8"
  }
 },
 "nbformat": 4,
 "nbformat_minor": 1
}
