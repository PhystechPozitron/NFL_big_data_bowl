{
 "cells": [
  {
   "cell_type": "code",
   "execution_count": 2,
   "metadata": {},
   "outputs": [],
   "source": [
    "import numpy as np\n",
    "import pandas as pd\n",
    "from scipy.stats import norm\n",
    "from sklearn.neighbors import KernelDensity\n",
    "import pickle\n",
    "import seaborn as sns\n",
    "\n",
    "from matplotlib import pyplot as plt\n",
    "PATH = '../data/'\n",
    "%matplotlib inline"
   ]
  },
  {
   "cell_type": "markdown",
   "metadata": {},
   "source": [
    "# Functions"
   ]
  },
  {
   "cell_type": "markdown",
   "metadata": {},
   "source": [
    "# Parse data"
   ]
  },
  {
   "cell_type": "code",
   "execution_count": 3,
   "metadata": {},
   "outputs": [
    {
     "data": {
      "text/html": [
       "<div>\n",
       "<style scoped>\n",
       "    .dataframe tbody tr th:only-of-type {\n",
       "        vertical-align: middle;\n",
       "    }\n",
       "\n",
       "    .dataframe tbody tr th {\n",
       "        vertical-align: top;\n",
       "    }\n",
       "\n",
       "    .dataframe thead th {\n",
       "        text-align: right;\n",
       "    }\n",
       "</style>\n",
       "<table border=\"1\" class=\"dataframe\">\n",
       "  <thead>\n",
       "    <tr style=\"text-align: right;\">\n",
       "      <th></th>\n",
       "      <th>GameId</th>\n",
       "      <th>PlayId</th>\n",
       "      <th>Team</th>\n",
       "      <th>X</th>\n",
       "      <th>Y</th>\n",
       "      <th>S</th>\n",
       "      <th>A</th>\n",
       "      <th>Dis</th>\n",
       "      <th>Orientation</th>\n",
       "      <th>Dir</th>\n",
       "      <th>...</th>\n",
       "      <th>Week</th>\n",
       "      <th>Stadium</th>\n",
       "      <th>Location</th>\n",
       "      <th>StadiumType</th>\n",
       "      <th>Turf</th>\n",
       "      <th>GameWeather</th>\n",
       "      <th>Temperature</th>\n",
       "      <th>Humidity</th>\n",
       "      <th>WindSpeed</th>\n",
       "      <th>WindDirection</th>\n",
       "    </tr>\n",
       "  </thead>\n",
       "  <tbody>\n",
       "    <tr>\n",
       "      <th>0</th>\n",
       "      <td>2017090700</td>\n",
       "      <td>20170907000118</td>\n",
       "      <td>away</td>\n",
       "      <td>73.91</td>\n",
       "      <td>34.84</td>\n",
       "      <td>1.69</td>\n",
       "      <td>1.13</td>\n",
       "      <td>0.40</td>\n",
       "      <td>81.99</td>\n",
       "      <td>177.18</td>\n",
       "      <td>...</td>\n",
       "      <td>1</td>\n",
       "      <td>Gillette Stadium</td>\n",
       "      <td>Foxborough, MA</td>\n",
       "      <td>Outdoor</td>\n",
       "      <td>Field Turf</td>\n",
       "      <td>Clear and warm</td>\n",
       "      <td>63.0</td>\n",
       "      <td>77.0</td>\n",
       "      <td>8</td>\n",
       "      <td>SW</td>\n",
       "    </tr>\n",
       "    <tr>\n",
       "      <th>1</th>\n",
       "      <td>2017090700</td>\n",
       "      <td>20170907000118</td>\n",
       "      <td>away</td>\n",
       "      <td>74.67</td>\n",
       "      <td>32.64</td>\n",
       "      <td>0.42</td>\n",
       "      <td>1.35</td>\n",
       "      <td>0.01</td>\n",
       "      <td>27.61</td>\n",
       "      <td>198.70</td>\n",
       "      <td>...</td>\n",
       "      <td>1</td>\n",
       "      <td>Gillette Stadium</td>\n",
       "      <td>Foxborough, MA</td>\n",
       "      <td>Outdoor</td>\n",
       "      <td>Field Turf</td>\n",
       "      <td>Clear and warm</td>\n",
       "      <td>63.0</td>\n",
       "      <td>77.0</td>\n",
       "      <td>8</td>\n",
       "      <td>SW</td>\n",
       "    </tr>\n",
       "    <tr>\n",
       "      <th>2</th>\n",
       "      <td>2017090700</td>\n",
       "      <td>20170907000118</td>\n",
       "      <td>away</td>\n",
       "      <td>74.00</td>\n",
       "      <td>33.20</td>\n",
       "      <td>1.22</td>\n",
       "      <td>0.59</td>\n",
       "      <td>0.31</td>\n",
       "      <td>3.01</td>\n",
       "      <td>202.73</td>\n",
       "      <td>...</td>\n",
       "      <td>1</td>\n",
       "      <td>Gillette Stadium</td>\n",
       "      <td>Foxborough, MA</td>\n",
       "      <td>Outdoor</td>\n",
       "      <td>Field Turf</td>\n",
       "      <td>Clear and warm</td>\n",
       "      <td>63.0</td>\n",
       "      <td>77.0</td>\n",
       "      <td>8</td>\n",
       "      <td>SW</td>\n",
       "    </tr>\n",
       "    <tr>\n",
       "      <th>3</th>\n",
       "      <td>2017090700</td>\n",
       "      <td>20170907000118</td>\n",
       "      <td>away</td>\n",
       "      <td>71.46</td>\n",
       "      <td>27.70</td>\n",
       "      <td>0.42</td>\n",
       "      <td>0.54</td>\n",
       "      <td>0.02</td>\n",
       "      <td>359.77</td>\n",
       "      <td>105.64</td>\n",
       "      <td>...</td>\n",
       "      <td>1</td>\n",
       "      <td>Gillette Stadium</td>\n",
       "      <td>Foxborough, MA</td>\n",
       "      <td>Outdoor</td>\n",
       "      <td>Field Turf</td>\n",
       "      <td>Clear and warm</td>\n",
       "      <td>63.0</td>\n",
       "      <td>77.0</td>\n",
       "      <td>8</td>\n",
       "      <td>SW</td>\n",
       "    </tr>\n",
       "    <tr>\n",
       "      <th>4</th>\n",
       "      <td>2017090700</td>\n",
       "      <td>20170907000118</td>\n",
       "      <td>away</td>\n",
       "      <td>69.32</td>\n",
       "      <td>35.42</td>\n",
       "      <td>1.82</td>\n",
       "      <td>2.43</td>\n",
       "      <td>0.16</td>\n",
       "      <td>12.63</td>\n",
       "      <td>164.31</td>\n",
       "      <td>...</td>\n",
       "      <td>1</td>\n",
       "      <td>Gillette Stadium</td>\n",
       "      <td>Foxborough, MA</td>\n",
       "      <td>Outdoor</td>\n",
       "      <td>Field Turf</td>\n",
       "      <td>Clear and warm</td>\n",
       "      <td>63.0</td>\n",
       "      <td>77.0</td>\n",
       "      <td>8</td>\n",
       "      <td>SW</td>\n",
       "    </tr>\n",
       "  </tbody>\n",
       "</table>\n",
       "<p>5 rows × 49 columns</p>\n",
       "</div>"
      ],
      "text/plain": [
       "       GameId          PlayId  Team      X      Y     S     A   Dis  \\\n",
       "0  2017090700  20170907000118  away  73.91  34.84  1.69  1.13  0.40   \n",
       "1  2017090700  20170907000118  away  74.67  32.64  0.42  1.35  0.01   \n",
       "2  2017090700  20170907000118  away  74.00  33.20  1.22  0.59  0.31   \n",
       "3  2017090700  20170907000118  away  71.46  27.70  0.42  0.54  0.02   \n",
       "4  2017090700  20170907000118  away  69.32  35.42  1.82  2.43  0.16   \n",
       "\n",
       "   Orientation     Dir  ...  Week           Stadium        Location  \\\n",
       "0        81.99  177.18  ...     1  Gillette Stadium  Foxborough, MA   \n",
       "1        27.61  198.70  ...     1  Gillette Stadium  Foxborough, MA   \n",
       "2         3.01  202.73  ...     1  Gillette Stadium  Foxborough, MA   \n",
       "3       359.77  105.64  ...     1  Gillette Stadium  Foxborough, MA   \n",
       "4        12.63  164.31  ...     1  Gillette Stadium  Foxborough, MA   \n",
       "\n",
       "   StadiumType        Turf     GameWeather Temperature Humidity  WindSpeed  \\\n",
       "0      Outdoor  Field Turf  Clear and warm        63.0     77.0          8   \n",
       "1      Outdoor  Field Turf  Clear and warm        63.0     77.0          8   \n",
       "2      Outdoor  Field Turf  Clear and warm        63.0     77.0          8   \n",
       "3      Outdoor  Field Turf  Clear and warm        63.0     77.0          8   \n",
       "4      Outdoor  Field Turf  Clear and warm        63.0     77.0          8   \n",
       "\n",
       "   WindDirection  \n",
       "0             SW  \n",
       "1             SW  \n",
       "2             SW  \n",
       "3             SW  \n",
       "4             SW  \n",
       "\n",
       "[5 rows x 49 columns]"
      ]
     },
     "execution_count": 3,
     "metadata": {},
     "output_type": "execute_result"
    }
   ],
   "source": [
    "df = pd.read_csv(PATH + 'train.csv', low_memory=False)\n",
    "df.head()"
   ]
  },
  {
   "cell_type": "code",
   "execution_count": 4,
   "metadata": {
    "scrolled": true
   },
   "outputs": [
    {
     "name": "stdout",
     "output_type": "stream",
     "text": [
      "<class 'pandas.core.frame.DataFrame'>\n",
      "RangeIndex: 509762 entries, 0 to 509761\n",
      "Data columns (total 49 columns):\n",
      "GameId                    509762 non-null int64\n",
      "PlayId                    509762 non-null int64\n",
      "Team                      509762 non-null object\n",
      "X                         509762 non-null float64\n",
      "Y                         509762 non-null float64\n",
      "S                         509762 non-null float64\n",
      "A                         509762 non-null float64\n",
      "Dis                       509762 non-null float64\n",
      "Orientation               509744 non-null float64\n",
      "Dir                       509748 non-null float64\n",
      "NflId                     509762 non-null int64\n",
      "DisplayName               509762 non-null object\n",
      "JerseyNumber              509762 non-null int64\n",
      "Season                    509762 non-null int64\n",
      "YardLine                  509762 non-null int64\n",
      "Quarter                   509762 non-null int64\n",
      "GameClock                 509762 non-null object\n",
      "PossessionTeam            509762 non-null object\n",
      "Down                      509762 non-null int64\n",
      "Distance                  509762 non-null int64\n",
      "FieldPosition             503338 non-null object\n",
      "HomeScoreBeforePlay       509762 non-null int64\n",
      "VisitorScoreBeforePlay    509762 non-null int64\n",
      "NflIdRusher               509762 non-null int64\n",
      "OffenseFormation          509652 non-null object\n",
      "OffensePersonnel          509762 non-null object\n",
      "DefendersInTheBox         509696 non-null float64\n",
      "DefensePersonnel          509762 non-null object\n",
      "PlayDirection             509762 non-null object\n",
      "TimeHandoff               509762 non-null object\n",
      "TimeSnap                  509762 non-null object\n",
      "Yards                     509762 non-null int64\n",
      "PlayerHeight              509762 non-null object\n",
      "PlayerWeight              509762 non-null int64\n",
      "PlayerBirthDate           509762 non-null object\n",
      "PlayerCollegeName         509762 non-null object\n",
      "Position                  509762 non-null object\n",
      "HomeTeamAbbr              509762 non-null object\n",
      "VisitorTeamAbbr           509762 non-null object\n",
      "Week                      509762 non-null int64\n",
      "Stadium                   509762 non-null object\n",
      "Location                  509762 non-null object\n",
      "StadiumType               476828 non-null object\n",
      "Turf                      509762 non-null object\n",
      "GameWeather               466114 non-null object\n",
      "Temperature               461230 non-null float64\n",
      "Humidity                  503602 non-null float64\n",
      "WindSpeed                 442332 non-null object\n",
      "WindDirection             429528 non-null object\n",
      "dtypes: float64(10), int64(15), object(24)\n",
      "memory usage: 190.6+ MB\n"
     ]
    }
   ],
   "source": [
    "df.info()"
   ]
  },
  {
   "cell_type": "markdown",
   "metadata": {},
   "source": [
    "# Single feature analysis"
   ]
  },
  {
   "cell_type": "markdown",
   "metadata": {},
   "source": [
    "## Objects"
   ]
  },
  {
   "cell_type": "code",
   "execution_count": 34,
   "metadata": {},
   "outputs": [
    {
     "data": {
      "text/plain": [
       "array(['Team', 'DisplayName', 'GameClock', 'PossessionTeam',\n",
       "       'FieldPosition', 'OffenseFormation', 'OffensePersonnel',\n",
       "       'DefensePersonnel', 'PlayDirection', 'TimeHandoff', 'TimeSnap',\n",
       "       'PlayerHeight', 'PlayerBirthDate', 'PlayerCollegeName', 'Position',\n",
       "       'HomeTeamAbbr', 'VisitorTeamAbbr', 'Stadium', 'Location',\n",
       "       'StadiumType', 'Turf', 'GameWeather', 'WindSpeed', 'WindDirection'],\n",
       "      dtype=object)"
      ]
     },
     "execution_count": 34,
     "metadata": {},
     "output_type": "execute_result"
    }
   ],
   "source": [
    "df_play = df.loc[df.NflId == df.NflIdRusher]\n",
    "object_cols = np.array(df.dtypes[df.dtypes == 'object'].index)\n",
    "object_cols"
   ]
  },
  {
   "cell_type": "markdown",
   "metadata": {},
   "source": [
    "### Teams features"
   ]
  },
  {
   "cell_type": "code",
   "execution_count": 37,
   "metadata": {},
   "outputs": [
    {
     "data": {
      "text/plain": [
       "array(['away', 'home'], dtype=object)"
      ]
     },
     "execution_count": 37,
     "metadata": {},
     "output_type": "execute_result"
    }
   ],
   "source": [
    "df.Team.unique()"
   ]
  },
  {
   "cell_type": "code",
   "execution_count": 40,
   "metadata": {},
   "outputs": [
    {
     "data": {
      "text/plain": [
       "array(['NE', 'KC', nan, 'BUF', 'NYJ', 'ATL', 'CHI', 'CIN', 'BLT', 'CLV',\n",
       "       'PIT', 'ARZ', 'DET', 'JAX', 'HST', 'TEN', 'OAK', 'WAS', 'PHI',\n",
       "       'LA', 'IND', 'GB', 'SEA', 'CAR', 'SF', 'DAL', 'NYG', 'NO', 'MIN',\n",
       "       'DEN', 'LAC', 'TB', 'MIA'], dtype=object)"
      ]
     },
     "execution_count": 40,
     "metadata": {},
     "output_type": "execute_result"
    }
   ],
   "source": [
    "df.FieldPosition.unique()"
   ]
  },
  {
   "cell_type": "code",
   "execution_count": 14,
   "metadata": {},
   "outputs": [
    {
     "data": {
      "text/plain": [
       "array(['SHOTGUN', 'SINGLEBACK', 'JUMBO', 'PISTOL', 'I_FORM', 'ACE',\n",
       "       'WILDCAT', nan, 'EMPTY'], dtype=object)"
      ]
     },
     "execution_count": 14,
     "metadata": {},
     "output_type": "execute_result"
    }
   ],
   "source": [
    "df.OffenseFormation.unique()"
   ]
  },
  {
   "cell_type": "code",
   "execution_count": 15,
   "metadata": {
    "collapsed": true
   },
   "outputs": [
    {
     "data": {
      "text/plain": [
       "array(['1 RB, 1 TE, 3 WR', '6 OL, 2 RB, 2 TE, 0 WR', '1 RB, 3 TE, 1 WR',\n",
       "       '1 RB, 2 TE, 2 WR', '6 OL, 1 RB, 2 TE, 1 WR', '2 RB, 1 TE, 2 WR',\n",
       "       '2 RB, 2 TE, 1 WR', '0 RB, 3 TE, 2 WR', '0 RB, 1 TE, 4 WR',\n",
       "       '6 OL, 1 RB, 0 TE, 3 WR', '6 OL, 1 RB, 1 TE, 2 WR',\n",
       "       '1 RB, 2 TE, 1 WR,1 DL', '1 RB, 3 TE, 0 WR,1 DL',\n",
       "       '1 RB, 0 TE, 4 WR', '1 RB, 1 TE, 2 WR,1 DL',\n",
       "       '6 OL, 2 RB, 0 TE, 2 WR', '2 RB, 0 TE, 3 WR',\n",
       "       '6 OL, 2 RB, 1 TE, 1 WR', '7 OL, 1 RB, 0 TE, 2 WR',\n",
       "       '7 OL, 2 RB, 0 TE, 1 WR', '7 OL, 1 RB, 2 TE, 0 WR',\n",
       "       '2 RB, 3 TE, 0 WR', '3 RB, 1 TE, 1 WR', '6 OL, 1 RB, 3 TE, 0 WR',\n",
       "       '6 OL, 1 RB, 2 TE, 0 WR,1 DL', '2 RB, 3 TE, 1 WR',\n",
       "       '6 OL, 1 RB, 1 TE, 1 WR,1 DL', '1 RB, 4 TE, 0 WR',\n",
       "       '1 RB, 2 TE, 1 WR,1 LB', '1 RB, 3 TE, 0 WR,1 LB',\n",
       "       '7 OL, 2 RB, 1 TE, 0 WR', '0 RB, 2 TE, 3 WR',\n",
       "       '1 RB, 0 TE, 3 WR,1 DB', '6 OL, 1 RB, 2 TE, 0 WR,1 LB',\n",
       "       '1 RB, 1 TE, 2 WR,1 DB', '0 RB, 0 TE, 5 WR', '1 RB, 2 TE, 3 WR',\n",
       "       '1 RB, 1 TE, 2 WR,1 LB', '1 RB, 3 TE, 0 WR,1 DB',\n",
       "       '6 OL, 2 RB, 1 TE, 0 WR,1 DL', '2 QB, 1 RB, 1 TE, 2 WR',\n",
       "       '6 OL, 0 RB, 2 TE, 2 WR', '3 RB, 0 TE, 2 WR',\n",
       "       '2 QB, 1 RB, 2 TE, 1 WR', '2 QB, 1 RB, 0 TE, 3 WR',\n",
       "       '3 RB, 2 TE, 0 WR', '2 RB, 2 TE, 0 WR,1 DL',\n",
       "       '2 QB, 2 RB, 2 TE, 0 WR', '2 QB, 2 RB, 0 TE, 2 WR',\n",
       "       '2 QB, 3 RB, 1 TE, 0 WR', '2 QB, 1 RB, 3 TE, 0 WR',\n",
       "       '2 QB, 2 RB, 1 TE, 1 WR', '2 RB, 1 TE, 1 WR,1 DB',\n",
       "       '1 RB, 2 TE, 1 WR,1 DB', '6 OL, 3 RB, 0 TE, 1 WR',\n",
       "       '6 OL, 1 RB, 1 TE, 0 WR,2 DL'], dtype=object)"
      ]
     },
     "execution_count": 15,
     "metadata": {},
     "output_type": "execute_result"
    }
   ],
   "source": [
    "df.OffensePersonnel.unique()"
   ]
  },
  {
   "cell_type": "code",
   "execution_count": 16,
   "metadata": {},
   "outputs": [
    {
     "data": {
      "text/plain": [
       "array(['left', 'right'], dtype=object)"
      ]
     },
     "execution_count": 16,
     "metadata": {},
     "output_type": "execute_result"
    }
   ],
   "source": [
    "df.PlayDirection.unique()"
   ]
  },
  {
   "cell_type": "code",
   "execution_count": 39,
   "metadata": {},
   "outputs": [
    {
     "data": {
      "text/plain": [
       "(array(['SS', 'DE', 'ILB', 'FS', 'CB', 'DT', 'WR', 'TE', 'T', 'QB', 'RB',\n",
       "        'G', 'C', 'OLB', 'NT', 'FB', 'MLB', 'LB', 'OT', 'OG', 'HB', 'DB',\n",
       "        'S', 'DL', 'SAF'], dtype=object),\n",
       " array(['RB', 'WR', 'FB', 'HB', 'QB', 'TE', 'CB', 'DT', 'DE'], dtype=object))"
      ]
     },
     "execution_count": 39,
     "metadata": {},
     "output_type": "execute_result"
    }
   ],
   "source": [
    "df.Position.unique(), df_play.Position.unique()"
   ]
  },
  {
   "cell_type": "code",
   "execution_count": 50,
   "metadata": {},
   "outputs": [
    {
     "data": {
      "text/plain": [
       " 0    11576\n",
       " 1     5869\n",
       "-1     5726\n",
       "dtype: int64"
      ]
     },
     "execution_count": 50,
     "metadata": {},
     "output_type": "execute_result"
    }
   ],
   "source": [
    "team_enc = df_play.Team.apply(lambda x: 0 if x == 'home' else 1)\n",
    "direction_enc = df_play.PlayDirection.apply(lambda x: 0 if x == 'left' else 1)\n",
    "(direction_enc - team_enc).value_counts()"
   ]
  },
  {
   "cell_type": "markdown",
   "metadata": {},
   "source": [
    "### Time"
   ]
  },
  {
   "cell_type": "code",
   "execution_count": 22,
   "metadata": {},
   "outputs": [
    {
     "data": {
      "text/plain": [
       "array([0, 1, 2, 3, 4, 5, 7], dtype='timedelta64[ns]')"
      ]
     },
     "execution_count": 22,
     "metadata": {},
     "output_type": "execute_result"
    }
   ],
   "source": [
    "(pd.to_datetime(df.TimeHandoff) - pd.to_datetime(df.TimeSnap)).sort_values().unique()/1e9"
   ]
  },
  {
   "cell_type": "markdown",
   "metadata": {},
   "source": [
    "### Conditions"
   ]
  },
  {
   "cell_type": "code",
   "execution_count": 24,
   "metadata": {},
   "outputs": [
    {
     "data": {
      "text/plain": [
       "array(['Field Turf', 'A-Turf Titan', 'Grass', 'UBU Sports Speed S5-M',\n",
       "       'Artificial', 'DD GrassMaster', 'Natural Grass',\n",
       "       'UBU Speed Series-S5-M', 'FieldTurf', 'FieldTurf 360',\n",
       "       'Natural grass', 'grass', 'Natural', 'Artifical', 'FieldTurf360',\n",
       "       'Naturall Grass', 'Field turf', 'SISGrass',\n",
       "       'Twenty-Four/Seven Turf', 'natural grass'], dtype=object)"
      ]
     },
     "execution_count": 24,
     "metadata": {},
     "output_type": "execute_result"
    }
   ],
   "source": [
    "df.Turf.unique()"
   ]
  },
  {
   "cell_type": "code",
   "execution_count": 25,
   "metadata": {
    "collapsed": true
   },
   "outputs": [
    {
     "data": {
      "text/plain": [
       "array(['Clear and warm', 'Sun & clouds', 'Sunny', 'Controlled Climate',\n",
       "       'Mostly Sunny', 'Clear', nan, 'Indoor', 'Mostly Cloudy',\n",
       "       'Mostly Coudy', 'Partly sunny', 'Partly Cloudy', 'Cloudy',\n",
       "       'Sunny, highs to upper 80s', 'Indoors', 'Light Rain', 'Showers',\n",
       "       'Partly cloudy', 'Partly Sunny', '30% Chance of Rain',\n",
       "       'Cloudy with periods of rain, thunder possible. Winds shifting to WNW, 10-20 mph.',\n",
       "       'Rain', 'Cloudy, fog started developing in 2nd quarter', 'Coudy',\n",
       "       'Rain likely, temps in low 40s.', 'Cold', 'N/A (Indoors)',\n",
       "       'Clear skies', 'cloudy', 'Fair', 'Mostly cloudy',\n",
       "       'Cloudy, chance of rain', 'Heavy lake effect snow', 'Party Cloudy',\n",
       "       'Cloudy, light snow accumulating 1-3\"', 'Cloudy and cold', 'Snow',\n",
       "       'Hazy', 'Scattered Showers', 'Cloudy and Cool', 'N/A Indoor',\n",
       "       'Rain Chance 40%', 'Clear and sunny', 'Mostly sunny',\n",
       "       'Sunny and warm', 'Partly clear', 'Cloudy, 50% change of rain',\n",
       "       'Clear and Sunny', 'Sunny, Windy', 'Clear and Cool',\n",
       "       'Sunny and clear', 'Mostly Sunny Skies', 'Partly Clouidy',\n",
       "       'Clear Skies', 'Sunny Skies', 'Overcast',\n",
       "       'T: 51; H: 55; W: NW 10 mph', 'Cloudy, Rain', 'Rain shower',\n",
       "       'Clear and cold', 'Rainy', 'Sunny and cold'], dtype=object)"
      ]
     },
     "execution_count": 25,
     "metadata": {},
     "output_type": "execute_result"
    }
   ],
   "source": [
    "df.GameWeather.unique()"
   ]
  },
  {
   "cell_type": "code",
   "execution_count": 26,
   "metadata": {},
   "outputs": [
    {
     "data": {
      "text/plain": [
       "array(['8', '6', '10', '9', '11', nan, '7', '5', '2', '12', '1', '3', '4',\n",
       "       '13', '0', 'SSW', '14', '15', '17', '18', '16', '11-17', '23',\n",
       "       '14-23', '13 MPH', '24', '12-22', '4 MPh', '15 gusts up to 25',\n",
       "       '10MPH', '10mph', '22', 'E', '7 MPH', 'Calm', '6 mph', '19', 'SE',\n",
       "       '20', '10-20', '12mph'], dtype=object)"
      ]
     },
     "execution_count": 26,
     "metadata": {},
     "output_type": "execute_result"
    }
   ],
   "source": [
    "df.WindSpeed.unique()"
   ]
  },
  {
   "cell_type": "code",
   "execution_count": 27,
   "metadata": {},
   "outputs": [
    {
     "data": {
      "text/plain": [
       "array(['SW', 'NNE', 'SE', 'East', nan, 'NE', 'North', 'S', 'Northwest',\n",
       "       'SouthWest', 'ENE', 'ESE', 'SSW', 'NW', 'Northeast', 'From S', 'W',\n",
       "       'South', 'West-Southwest', 'E', '13', 'N', 'NNW',\n",
       "       'South Southeast', 'SSE', 'West', 'WSW', 'From SW', 'WNW', 's',\n",
       "       'NorthEast', 'from W', 'W-NW', 'South Southwest', 'Southeast',\n",
       "       'From WSW', 'West Northwest', 'Calm', 'From SSE', 'From W',\n",
       "       'East North East', 'From ESE', 'EAST', 'East Southeast',\n",
       "       'From SSW', '8', 'North East', 'Southwest', 'North/Northwest',\n",
       "       'From NNE', '1', 'N-NE', 'W-SW', 'From NNW'], dtype=object)"
      ]
     },
     "execution_count": 27,
     "metadata": {},
     "output_type": "execute_result"
    }
   ],
   "source": [
    "df.WindDirection.unique()"
   ]
  }
 ],
 "metadata": {
  "kernelspec": {
   "display_name": "Python 3",
   "language": "python",
   "name": "python3"
  },
  "language_info": {
   "codemirror_mode": {
    "name": "ipython",
    "version": 3
   },
   "file_extension": ".py",
   "mimetype": "text/x-python",
   "name": "python",
   "nbconvert_exporter": "python",
   "pygments_lexer": "ipython3",
   "version": "3.6.8"
  }
 },
 "nbformat": 4,
 "nbformat_minor": 2
}
