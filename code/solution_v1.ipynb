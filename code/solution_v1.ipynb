{
 "cells": [
  {
   "cell_type": "code",
   "execution_count": 1,
   "metadata": {
    "_cell_guid": "b1076dfc-b9ad-4769-8c92-a6c4dae69d19",
    "_uuid": "8f2839f25d086af736a60e9eeb907d3b93b6e0e5"
   },
   "outputs": [],
   "source": [
    "import math\n",
    "import numpy as np\n",
    "import pandas as pd\n",
    "from scipy.spatial import KDTree\n",
    "from scipy.stats import norm\n",
    "from scipy.stats import multivariate_normal as m_norm\n",
    "from sklearn.neighbors import KernelDensity\n",
    "import pickle\n",
    "import seaborn as sns\n",
    "\n",
    "from matplotlib import pyplot as plt\n",
    "PATH = '../data/' # '/kaggle/input/nfl-big-data-bowl-2020/'\n",
    "%matplotlib inline"
   ]
  },
  {
   "cell_type": "code",
   "execution_count": 2,
   "metadata": {},
   "outputs": [],
   "source": [
    "from sklearn.model_selection import KFold, TimeSeriesSplit\n",
    "from sklearn.preprocessing import LabelEncoder\n",
    "from sklearn.linear_model import Ridge\n",
    "import lightgbm as lgb"
   ]
  },
  {
   "cell_type": "markdown",
   "metadata": {},
   "source": [
    "# Functions and classes"
   ]
  },
  {
   "cell_type": "markdown",
   "metadata": {},
   "source": [
    "## Preprocessing"
   ]
  },
  {
   "cell_type": "code",
   "execution_count": 3,
   "metadata": {},
   "outputs": [],
   "source": [
    "def preprocess(df, is_train=True):\n",
    "    ## keep only important columns\n",
    "    cols_to_drop = ['GameId', 'DisplayName', 'JerseyNumber', 'Quarter', 'GameWeather', \n",
    "                    'GameClock', 'Dis', 'PlayerWeight', 'PlayerHeight', 'TimeHandoff', 'PlayerBirthDate', \n",
    "                    'HomeScoreBeforePlay', 'VisitorScoreBeforePlay', 'OffensePersonnel', 'OffenseFormation', \n",
    "                    'DefensePersonnel', 'TimeSnap', 'PlayerCollegeName', 'VisitorTeamAbbr', 'Stadium', 'Location', \n",
    "                    'StadiumType', 'Temperature', 'Humidity', 'WindSpeed', 'WindDirection']\n",
    "    df.drop(cols_to_drop, axis=1, inplace=True)\n",
    "    \n",
    "    if is_train:\n",
    "        ## Adjust speed in 2017\n",
    "        S_17_std = (df[df.Season == 2017].S - df[df.Season == 2017].S.mean())/df[df.Season == 2017].S.std()\n",
    "        df.loc[df.Season == 2017, 'S'] = S_17_std * df[df.Season == 2018].S.std() + df[df.Season == 2018].S.mean()\n",
    "    \n",
    "        ## Adjust acceleration in 2018\n",
    "        A_17_std = (df[df.Season == 2017].A - df[df.Season == 2017].A.mean())/df[df.Season == 2017].A.std()\n",
    "        df.loc[df.Season == 2017, 'A'] = A_17_std * df[df.Season == 2018].A.std() + df[df.Season == 2018].A.mean()\n",
    "    \n",
    "    ## Clean turf\n",
    "    turf_dict = {'Field Turf':0, 'A-Turf Titan': 0, \n",
    "            'Grass': 1, 'UBU Sports Speed S5-M': 0, \n",
    "            'Artificial': 0, 'DD GrassMaster': 0, \n",
    "            'Natural Grass': 1, 'UBU Speed Series-S5-M': 0, \n",
    "            'FieldTurf': 0, 'FieldTurf 360': 0, \n",
    "            'Natural grass': 1, 'grass':1, \n",
    "            'Natural': 1, 'Artifical': 0, \n",
    "            'FieldTurf360': 0, 'Naturall Grass':1, \n",
    "            'Field turf': 0, 'SISGrass': 0, \n",
    "            'Twenty-Four/Seven Turf': 0, 'natural grass': 1} \n",
    "    df['Turf'] = df['Turf'].map(turf_dict)\n",
    "    \n",
    "    ## Fix abbreviations\n",
    "    df.loc[df.HomeTeamAbbr == \"ARI\", 'HomeTeamAbbr'] = \"ARZ\"\n",
    "    df.loc[df.HomeTeamAbbr == \"BAL\", 'HomeTeamAbbr'] = \"BLT\"\n",
    "    df.loc[df.HomeTeamAbbr == \"CLE\", 'HomeTeamAbbr'] = \"CLV\"\n",
    "    df.loc[df.HomeTeamAbbr == \"HOU\", 'HomeTeamAbbr'] = \"HST\"\n",
    "    \n",
    "    # Is player on offense or not?\n",
    "    df['ToLeft'] = df.PlayDirection == \"left\"\n",
    "    df['IsBallCarrier'] = df.NflId == df.NflIdRusher\n",
    "    df['TeamOnOffense'] = \"home\"\n",
    "    df.loc[df.PossessionTeam != df.HomeTeamAbbr, 'TeamOnOffense'] = \"away\"\n",
    "    df['IsOnOffense'] = df.Team == df.TeamOnOffense\n",
    "\n",
    "    ## fix YardLine \n",
    "    df['YardLine_std'] = 100 - df.YardLine\n",
    "    cond = df.FieldPosition.fillna('') == df.PossessionTeam\n",
    "    df.loc[cond, 'YardLine_std'] = df.loc[cond, 'YardLine']\n",
    "\n",
    "    ## fix X, Y\n",
    "    df['X_std'] = df.X\n",
    "    df.loc[df.ToLeft, 'X_std'] = 120 - df.loc[df.ToLeft, 'X'] \n",
    "    df['Y_std'] = df.Y\n",
    "    df.loc[df.ToLeft, 'Y_std'] = 160/3 - df.loc[df.ToLeft, 'Y'] \n",
    "\n",
    "    ## fix Dir\n",
    "    df['Dir_rad'] = np.mod(90 - df.Dir, 360) * math.pi/180.0 \n",
    "    df['Dir_std'] = df.Dir_rad\n",
    "    df.loc[df.ToLeft, 'Dir_std'] = np.mod(np.pi + df.loc[df.ToLeft, 'Dir_rad'], 2*np.pi)\n",
    "\n",
    "    ## fix Orientation\n",
    "    df['Orientation_rad'] = np.mod(df.Orientation, 360) * math.pi/180.0\n",
    "    df.loc[df.Season >= 2018, \n",
    "           'Orientation_rad'] = np.mod(df.loc[df.Season >= 2018, 'Orientation'] - 90, 360) * math.pi/180.0\n",
    "    df['Orientation_std'] = df.Orientation_rad\n",
    "    df.loc[df.ToLeft, 'Orientation_std'] = np.mod(np.pi + df.loc[df.ToLeft, 'Orientation_rad'], 2*np.pi)\n",
    "\n",
    "    ## drop unnesessary columns\n",
    "    cols_to_drop = ['PlayDirection', 'NflId', 'NflIdRusher', 'FieldPosition', \n",
    "                    'Team', 'PossessionTeam', 'HomeTeamAbbr', 'TeamOnOffense', 'ToLeft', \n",
    "                    'YardLine', 'X', 'Y', 'Dir', 'Dir_rad', 'Orientation', 'Orientation_rad']\n",
    "    df.drop(cols_to_drop, axis=1, inplace=True)\n",
    "    \n",
    "    ## fill NaNs\n",
    "    for col in ['DefendersInTheBox', 'Dir_std', 'Orientation_std']:\n",
    "        df[col].fillna(df[col].median(), inplace=True)\n",
    "    return df"
   ]
  },
  {
   "cell_type": "markdown",
   "metadata": {},
   "source": [
    "## FE"
   ]
  },
  {
   "cell_type": "code",
   "execution_count": 4,
   "metadata": {},
   "outputs": [],
   "source": [
    "def sigmoid(x):\n",
    "    return 1 / (1 + np.exp(-x))"
   ]
  },
  {
   "cell_type": "code",
   "execution_count": 5,
   "metadata": {},
   "outputs": [],
   "source": [
    "def get_influence_radius(dist, min_rad=4, max_rad=10, dist_threshold=20):\n",
    "    if dist <= dist_threshold:\n",
    "        return min_rad + (max_rad - min_rad) * (dist/dist_threshold)**2\n",
    "    else:\n",
    "        return max_rad"
   ]
  },
  {
   "cell_type": "code",
   "execution_count": 6,
   "metadata": {},
   "outputs": [],
   "source": [
    "def get_player_influence(row, row_rusher, delta_t=1, S_max=10, eps=1e-6):\n",
    "    ## calc distribution mean\n",
    "    mean = [row.X_std + delta_t * row.S * np.cos(row.Dir_std)/2, \n",
    "            row.Y_std + delta_t * row.S * np.sin(row.Dir_std)/2]\n",
    "    \n",
    "    ## calc distribution covariance matrix\n",
    "    dist_to_rusher = np.sqrt((row.X_std - row_rusher.X_std)**2 + (row.Y_std - row_rusher.Y_std)**2)\n",
    "    inf_radius = get_influence_radius(dist_to_rusher)\n",
    "    R = np.array([[np.cos(row.Dir_std), -np.sin(row.Dir_std)], \n",
    "                  [np.sin(row.Dir_std), np.cos(row.Dir_std)]])\n",
    "    S = np.array([[inf_radius * (1 + (row.S/S_max)**2)/2, 0], \n",
    "                  [0, inf_radius * (1 - (row.S/S_max)**2)/2]])\n",
    "    cov = np.dot(np.dot(R, S), np.dot(S, np.linalg.inv(R)))\n",
    "    \n",
    "    ## calc and return normed pdf\n",
    "    denom = m_norm.pdf([row.X_std, row.Y_std], mean=mean, cov=cov)\n",
    "    influence = lambda x: m_norm.pdf(x, mean=mean, cov=cov)/(denom + eps)\n",
    "    return influence "
   ]
  },
  {
   "cell_type": "code",
   "execution_count": 7,
   "metadata": {},
   "outputs": [],
   "source": [
    "def get_pitch_control(df_play, delta_t=1, no_offense=False, no_rusher=False):\n",
    "    row_rusher = df_play[df_play.IsBallCarrier].iloc[0]\n",
    "    \n",
    "    ## get offense influences\n",
    "    get_inf = lambda row: get_player_influence(row, row_rusher, delta_t=delta_t)\n",
    "    offense_infs = []\n",
    "    if no_offense == False:\n",
    "        offense_infs = list(df_play[(df_play.IsOnOffense) & \n",
    "                                    (df_play.IsBallCarrier == False)].apply(get_inf, axis=1).values)\n",
    "    if no_rusher == False:\n",
    "        offense_infs.append(get_player_influence(row_rusher, row_rusher, delta_t=delta_t))\n",
    "            \n",
    "    defense_infs = df_play[df_play.IsOnOffense == False].apply(get_inf, axis=1).values \n",
    "    \n",
    "    pc = lambda x: sigmoid(sum([inf(x) for inf in offense_infs]) \n",
    "                                     - sum([inf(x) for inf in defense_infs]))\n",
    "    return pc"
   ]
  },
  {
   "cell_type": "code",
   "execution_count": 8,
   "metadata": {},
   "outputs": [],
   "source": [
    "def get_point_pc(row_rusher, point_type):\n",
    "    if point_type == 'rusher_pose':\n",
    "        point = (row_rusher.X_std, row_rusher.Y_std)\n",
    "    elif point_type == 'ifo_rusher':\n",
    "        point = (row_rusher.X_std + row_rusher.S * np.cos(row_rusher.Dir_std), \n",
    "                 row_rusher.Y_std + row_rusher.S * np.sin(row_rusher.Dir_std))\n",
    "    else:\n",
    "        return -1\n",
    "    return row_rusher.pitch_control(point)"
   ]
  },
  {
   "cell_type": "markdown",
   "metadata": {},
   "source": [
    "## Modelling"
   ]
  },
  {
   "cell_type": "code",
   "execution_count": 39,
   "metadata": {},
   "outputs": [],
   "source": [
    "## Model fits on number of yards (as regressor) \n",
    "## and predicts proba density for each yard from -99 to 99 (as multiclassifier)\n",
    "\n",
    "class ConditionalRegressor:\n",
    "    def __init__(self, model, num_percentiles=10, \n",
    "                 kde=KernelDensity(kernel='exponential', metric='manhattan', bandwidth=0.3), \n",
    "                 cv_iter=5, \n",
    "                 window=0):\n",
    "        self.model = model\n",
    "        self.num_percentiles = num_percentiles\n",
    "        self.kde = kde\n",
    "        self.cv_iter = cv_iter\n",
    "        self.window = window\n",
    "        \n",
    "    def get_cv_predictions(self, X, y):\n",
    "        cv = KFold(n_splits=self.cv_iter, shuffle=False)\n",
    "        y_pred = np.zeros(X.shape[0]) \n",
    "        for tr_index, val_index in cv.split(X):\n",
    "            self.model.fit(X[tr_index], y[tr_index])\n",
    "            y_pred[val_index] = self.model.predict(X[val_index])\n",
    "        return y_pred\n",
    "    \n",
    "    def bin_predictions(self, pred):\n",
    "        return np.sum([pred > pct for pct in self.percentiles], axis=0)\n",
    "    \n",
    "    def fit(self, X, y):\n",
    "        ## train regressor on log(y)\n",
    "        y_log = np.where(y >= 0, np.log(1 + np.abs(y)), -np.log(1 + np.abs(y)))\n",
    "        pred = self.get_cv_predictions(X, y_log)\n",
    "        self.model.fit(X, y_log)\n",
    "        \n",
    "        ## bin cv predictions\n",
    "        self.percentiles = np.percentile(pred, np.linspace(1, 99, self.num_percentiles))\n",
    "        pred_binned = self.bin_predictions(pred)\n",
    "        \n",
    "        ## calc distribution for each bin\n",
    "        self.distribution = {}\n",
    "        for interval in range(self.num_percentiles + 1):\n",
    "            filt = [abs(interval - x) <= self.window for x in pred_binned]\n",
    "            if sum(filt) == 0:\n",
    "                filt = [True for x in pred_binned]\n",
    "            self.kde.fit(y[filt, np.newaxis])\n",
    "            self.distribution[interval] = np.exp(self.kde.score_samples(np.arange(-99, 100)[:, np.newaxis]))\n",
    "            self.distribution[interval] /= sum(self.distribution[interval])\n",
    "    \n",
    "    def plot_importances(self, column_names, importances=[], h_size=15, v_size=20):\n",
    "        FI = pd.DataFrame()\n",
    "        FI[\"names\"] = column_names\n",
    "        if len(importances) == 0:\n",
    "            FI[\"importances\"] = self.model.feature_importances_\n",
    "        else:\n",
    "            FI[\"importances\"] = importances\n",
    "        plt.figure(figsize=(h_size, v_size))\n",
    "        sns.barplot(data=FI.sort_values(by=\"importances\", ascending=False), \n",
    "                    x=\"importances\", y=\"names\")\n",
    "        plt.title(\"Feature importances\")\n",
    "    \n",
    "    def predict_proba(self, X):\n",
    "        pred = self.model.predict(X)\n",
    "        pred_binned = self.bin_predictions(pred)\n",
    "        return np.array([self.distribution[x] for x in pred_binned])"
   ]
  },
  {
   "cell_type": "code",
   "execution_count": 10,
   "metadata": {},
   "outputs": [],
   "source": [
    "def srps_score(y_true, y_pred):\n",
    "    score = 0\n",
    "    y_pred_cumsum = np.cumsum(y_pred, axis=1)\n",
    "    for n in range(199):\n",
    "         score += ((y_pred_cumsum[:, n] - np.where(n - 99 >= y_true, 1, 0))**2).sum()\n",
    "    return score/(199 * len(y_true))"
   ]
  },
  {
   "cell_type": "code",
   "execution_count": 30,
   "metadata": {},
   "outputs": [],
   "source": [
    "def evaluate_model(model, df, features, print_process=True, \n",
    "                   cv_type='last_year', n_splits=5):\n",
    "    scores = []\n",
    "    if cv_type == 'last_year':\n",
    "        X_train = df.loc[df.Season == 2017, features].values\n",
    "        y_train = df.loc[df.Season == 2017, 'Yards'].values\n",
    "        model.fit(X_train, y_train)\n",
    "        for week in range(df.Week.min(), df.Week.max() + 1):\n",
    "            X_valid = df.loc[(df.Season == 2018) & (df.Week == week), \n",
    "                             features].values\n",
    "            y_valid = df.loc[(df.Season == 2018) & (df.Week == week), \n",
    "                             'Yards'].values\n",
    "            y_pred = model.predict_proba(X_valid)\n",
    "            score = srps_score(y_valid, y_pred)\n",
    "            if print_process:\n",
    "                print(\"SRPS =\", score, \" on week\", week)\n",
    "            scores.append(score)\n",
    "    elif cv_type == 'tss':\n",
    "        X_17 = df.loc[df.Season == 2017, features].values\n",
    "        y_17 = df.loc[df.Season == 2017, 'Yards'].values\n",
    "        X_18 = df.loc[df.Season == 2018, features].values\n",
    "        y_18 = df.loc[df.Season == 2018, 'Yards'].values\n",
    "        cv = TimeSeriesSplit(n_splits=n_splits)\n",
    "        cnt = 1\n",
    "        for tr_index, val_index in cv.split(X_18):\n",
    "            model.fit(np.vstack((X_17, X_18[tr_index])), \n",
    "                      np.hstack((y_17, y_18[tr_index])))\n",
    "            y_pred = model.predict_proba(X_18[val_index])\n",
    "            score = srps_score(y_18[val_index], y_pred)\n",
    "            if print_process:\n",
    "                print(\"SRPS =\", score, \" on fold\", cnt)\n",
    "            scores.append(score)\n",
    "            cnt += 1\n",
    "            \n",
    "    scores = np.array(scores)\n",
    "    if print_process:\n",
    "        print(\"Mean SRPS:\", scores.mean())\n",
    "        print(\"Std of SRPS:\", scores.std())\n",
    "    return scores"
   ]
  },
  {
   "cell_type": "code",
   "execution_count": 12,
   "metadata": {},
   "outputs": [],
   "source": [
    "def plot_custom_importances(model, df, features, scores=[], v_size=5, cv_type='last_year'):\n",
    "    ## Calc score with every feature\n",
    "    if len(scores) == 0:\n",
    "        scores_with = evaluate_model(model, df, features, print_process=False, \n",
    "                                     cv_type=cv_type)\n",
    "    else:\n",
    "        scores_with = np.array(scores)\n",
    "        \n",
    "    # Calc score without fixed feature\n",
    "    importances = []\n",
    "    for col in features:\n",
    "        other_features = list(features)\n",
    "        other_features.remove(col)\n",
    "        scores_without = evaluate_model(model, df, other_features, print_process=False, \n",
    "                                        cv_type=cv_type)\n",
    "        scores_diff = scores_without - scores_with\n",
    "        importances.append(scores_diff.mean())\n",
    "        \n",
    "    # plot importances\n",
    "    model.plot_importances(features, importances=importances, v_size=v_size)"
   ]
  },
  {
   "cell_type": "markdown",
   "metadata": {},
   "source": [
    "# Preprocessing"
   ]
  },
  {
   "cell_type": "code",
   "execution_count": 13,
   "metadata": {
    "collapsed": true
   },
   "outputs": [
    {
     "name": "stdout",
     "output_type": "stream",
     "text": [
      "<class 'pandas.core.frame.DataFrame'>\n",
      "RangeIndex: 509762 entries, 0 to 509761\n",
      "Data columns (total 18 columns):\n",
      "PlayId               509762 non-null int64\n",
      "S                    509762 non-null float64\n",
      "A                    509762 non-null float64\n",
      "Season               509762 non-null int64\n",
      "Down                 509762 non-null int64\n",
      "Distance             509762 non-null int64\n",
      "DefendersInTheBox    509762 non-null float64\n",
      "Yards                509762 non-null int64\n",
      "Position             509762 non-null object\n",
      "Week                 509762 non-null int64\n",
      "Turf                 509762 non-null int64\n",
      "IsBallCarrier        509762 non-null bool\n",
      "IsOnOffense          509762 non-null bool\n",
      "YardLine_std         509762 non-null int64\n",
      "X_std                509762 non-null float64\n",
      "Y_std                509762 non-null float64\n",
      "Dir_std              509762 non-null float64\n",
      "Orientation_std      509762 non-null float64\n",
      "dtypes: bool(2), float64(7), int64(8), object(1)\n",
      "memory usage: 63.2+ MB\n",
      "CPU times: user 11.1 s, sys: 449 ms, total: 11.5 s\n",
      "Wall time: 11.6 s\n"
     ]
    }
   ],
   "source": [
    "%%time\n",
    "df = pd.read_csv(PATH + 'train.csv', low_memory=False)\n",
    "df = preprocess(df)\n",
    "df.to_csv('../data/train_preprocessed.csv', index=False)\n",
    "df.info()"
   ]
  },
  {
   "cell_type": "code",
   "execution_count": 14,
   "metadata": {
    "collapsed": true
   },
   "outputs": [
    {
     "name": "stdout",
     "output_type": "stream",
     "text": [
      "<class 'pandas.core.frame.DataFrame'>\n",
      "Int64Index: 23171 entries, 18 to 509761\n",
      "Data columns (total 16 columns):\n",
      "PlayId               23171 non-null int64\n",
      "S                    23171 non-null float64\n",
      "A                    23171 non-null float64\n",
      "Season               23171 non-null int64\n",
      "Down                 23171 non-null int64\n",
      "Distance             23171 non-null int64\n",
      "DefendersInTheBox    23171 non-null float64\n",
      "Yards                23171 non-null int64\n",
      "Position             23171 non-null object\n",
      "Week                 23171 non-null int64\n",
      "Turf                 23171 non-null int64\n",
      "YardLine_std         23171 non-null int64\n",
      "X_std                23171 non-null float64\n",
      "Y_std                23171 non-null float64\n",
      "Dir_std              23171 non-null float64\n",
      "Orientation_std      23171 non-null float64\n",
      "dtypes: float64(7), int64(8), object(1)\n",
      "memory usage: 3.0+ MB\n"
     ]
    }
   ],
   "source": [
    "df_play = df[df.IsBallCarrier].drop(['IsOnOffense', 'IsBallCarrier'], axis=1)\n",
    "df_play.info()"
   ]
  },
  {
   "cell_type": "markdown",
   "metadata": {},
   "source": [
    "# Feature engineering"
   ]
  },
  {
   "cell_type": "markdown",
   "metadata": {},
   "source": [
    "### Situation-based"
   ]
  },
  {
   "cell_type": "code",
   "execution_count": 15,
   "metadata": {},
   "outputs": [
    {
     "name": "stdout",
     "output_type": "stream",
     "text": [
      "CPU times: user 7min 40s, sys: 2min 15s, total: 9min 56s\n",
      "Wall time: 4min 58s\n"
     ]
    }
   ],
   "source": [
    "%%time\n",
    "g = df.groupby('PlayId').apply(lambda df: get_pitch_control(df, no_rusher=True))\n",
    "df_play['pitch_control'] = df_play.PlayId.map(g)"
   ]
  },
  {
   "cell_type": "code",
   "execution_count": 16,
   "metadata": {},
   "outputs": [
    {
     "name": "stdout",
     "output_type": "stream",
     "text": [
      "CPU times: user 51.5 s, sys: 642 ms, total: 52.1 s\n",
      "Wall time: 51 s\n"
     ]
    }
   ],
   "source": [
    "%%time\n",
    "df_play['ifo_rusher_pc'] = df_play.apply(lambda row: get_point_pc(row, point_type='ifo_rusher'), \n",
    "                                          axis=1)"
   ]
  },
  {
   "cell_type": "code",
   "execution_count": 17,
   "metadata": {},
   "outputs": [],
   "source": [
    "df_play['speed_x'] = df_play.S * np.cos(df_play.Dir_std)"
   ]
  },
  {
   "cell_type": "markdown",
   "metadata": {},
   "source": [
    "## Final features"
   ]
  },
  {
   "cell_type": "code",
   "execution_count": 19,
   "metadata": {},
   "outputs": [
    {
     "name": "stdout",
     "output_type": "stream",
     "text": [
      "<class 'pandas.core.frame.DataFrame'>\n",
      "Int64Index: 23171 entries, 18 to 509761\n",
      "Data columns (total 5 columns):\n",
      "YardLine_std         23171 non-null int64\n",
      "DefendersInTheBox    23171 non-null float64\n",
      "Distance             23171 non-null int64\n",
      "ifo_rusher_pc        23171 non-null float64\n",
      "speed_x              23171 non-null float64\n",
      "dtypes: float64(3), int64(2)\n",
      "memory usage: 1.1 MB\n"
     ]
    }
   ],
   "source": [
    "features = ['YardLine_std', 'DefendersInTheBox', \n",
    "            'Distance', 'ifo_rusher_pc', 'speed_x']\n",
    "df_play[features].info()"
   ]
  },
  {
   "cell_type": "markdown",
   "metadata": {},
   "source": [
    "# Modelling"
   ]
  },
  {
   "cell_type": "markdown",
   "metadata": {},
   "source": [
    "## Load evaluation result of previous solution"
   ]
  },
  {
   "cell_type": "code",
   "execution_count": 35,
   "metadata": {},
   "outputs": [
    {
     "name": "stdout",
     "output_type": "stream",
     "text": [
      "Previous score (x100) is 1.457661050006577\n"
     ]
    }
   ],
   "source": [
    "with open('../data/solution_score.pkl', 'rb') as fout:\n",
    "    solution_scores = pickle.load(fout)\n",
    "print('Previous score (x100) is', 100 * solution_scores['v0'].mean())"
   ]
  },
  {
   "cell_type": "markdown",
   "metadata": {},
   "source": [
    "## Evaluate model"
   ]
  },
  {
   "cell_type": "code",
   "execution_count": 40,
   "metadata": {},
   "outputs": [],
   "source": [
    "lgb_regressor = lgb.LGBMRegressor(n_estimators=30, \n",
    "                                  learning_rate=0.1, \n",
    "                                  num_leaves=12,\n",
    "                                  max_depth=5,\n",
    "                                  min_child_weight=5,\n",
    "                                  subsample=0.8,\n",
    "                                  colsample_bytree=0.8,\n",
    "                                  objective='mae',\n",
    "                                  reg_alpha=0.5, \n",
    "                                  reg_lambda=0.5,\n",
    "                                  random_state=42)\n",
    "\n",
    "cond_regressor = ConditionalRegressor(lgb_regressor, num_percentiles=15, window=1)"
   ]
  },
  {
   "cell_type": "code",
   "execution_count": 42,
   "metadata": {},
   "outputs": [
    {
     "name": "stdout",
     "output_type": "stream",
     "text": [
      "SRPS = 0.014719337085810953  on fold 1\n",
      "SRPS = 0.013950668008580407  on fold 2\n",
      "SRPS = 0.014733063387103638  on fold 3\n",
      "SRPS = 0.014469026972038983  on fold 4\n",
      "SRPS = 0.013879874649994007  on fold 5\n",
      "Mean SRPS: 0.014350394020705598\n",
      "Std of SRPS: 0.00036818418472151177\n",
      "CPU times: user 7.49 s, sys: 25.7 ms, total: 7.51 s\n",
      "Wall time: 4.97 s\n"
     ]
    }
   ],
   "source": [
    "%%time\n",
    "scores = evaluate_model(cond_regressor, df_play, features, cv_type='tss', n_splits=5)"
   ]
  },
  {
   "cell_type": "code",
   "execution_count": 44,
   "metadata": {},
   "outputs": [
    {
     "name": "stdout",
     "output_type": "stream",
     "text": [
      "Mean score (x100) is 1.4350394020705597\n"
     ]
    }
   ],
   "source": [
    "print(\"Mean score (x100) is\", scores.mean() * 100)"
   ]
  },
  {
   "cell_type": "markdown",
   "metadata": {},
   "source": [
    "## Feature importances"
   ]
  },
  {
   "cell_type": "code",
   "execution_count": 36,
   "metadata": {
    "scrolled": true
   },
   "outputs": [
    {
     "data": {
      "image/png": "[encoded data removed]",
      "text/plain": [
       "<Figure size 1080x360 with 1 Axes>"
      ]
     },
     "metadata": {
      "needs_background": "light"
     },
     "output_type": "display_data"
    }
   ],
   "source": [
    "cond_regressor.plot_importances(features, v_size=5)"
   ]
  },
  {
   "cell_type": "code",
   "execution_count": 466,
   "metadata": {},
   "outputs": [
    {
     "name": "stdout",
     "output_type": "stream",
     "text": [
      "CPU times: user 48.3 s, sys: 136 ms, total: 48.4 s\n",
      "Wall time: 32.6 s\n"
     ]
    },
    {
     "data": {
      "image/png": "[encoded data removed]",
      "text/plain": [
       "<Figure size 1080x360 with 1 Axes>"
      ]
     },
     "metadata": {
      "needs_background": "light"
     },
     "output_type": "display_data"
    }
   ],
   "source": [
    "%%time\n",
    "plot_custom_importances(cond_regressor, df_play, features, v_size=5, cv_type='tss')"
   ]
  },
  {
   "cell_type": "markdown",
   "metadata": {},
   "source": [
    "## Save evaluation result"
   ]
  },
  {
   "cell_type": "code",
   "execution_count": 34,
   "metadata": {},
   "outputs": [
    {
     "name": "stdout",
     "output_type": "stream",
     "text": [
      "v1 score (x100) is better on 0.022621647936017265 then v0 score (x100)\n"
     ]
    }
   ],
   "source": [
    "solution_scores['v1'] = scores\n",
    "with open('../data/solution_score.pkl', 'wb') as fout:\n",
    "    pickle.dump(solution_scores, fout, protocol=pickle.HIGHEST_PROTOCOL)\n",
    "    \n",
    "print(\"v1 score (x100) is better on\", 100 * (solution_scores['v0'].mean() - scores.mean()), \n",
    "      'then v0 score (x100)')"
   ]
  },
  {
   "cell_type": "markdown",
   "metadata": {},
   "source": [
    "## Fit model"
   ]
  },
  {
   "cell_type": "code",
   "execution_count": 168,
   "metadata": {},
   "outputs": [
    {
     "name": "stdout",
     "output_type": "stream",
     "text": [
      "CPU times: user 2.29 s, sys: 19.7 ms, total: 2.31 s\n",
      "Wall time: 760 ms\n"
     ]
    }
   ],
   "source": [
    "%%time\n",
    "X_train = df_play[features].values\n",
    "y_train = df_play.Yards.values\n",
    "cond_regressor.fit(X_train, y_train)"
   ]
  },
  {
   "cell_type": "markdown",
   "metadata": {},
   "source": [
    "# Predict on test"
   ]
  },
  {
   "cell_type": "code",
   "execution_count": null,
   "metadata": {},
   "outputs": [],
   "source": [
    "from kaggle.competitions import nflrush\n",
    "env = nflrush.make_env()\n",
    "columns = ['Yards' + str(i) for i in range(-99, 100)]\n",
    "\n",
    "for df_test, _ in env.iter_test():\n",
    "    ## preprocessing\n",
    "    df_test = preprocess(df_test)\n",
    "    df_play_test = df_test[df_test.IsBallCarrier].drop(['IsOnOffense', 'IsBallCarrier'], axis=1)\n",
    "    \n",
    "    ## FE\n",
    "    g = df_test.groupby('PlayId').apply(lambda df: get_pitch_control(df, no_rusher=True))\n",
    "    df_play_test['pitch_control'] = df_play_test.PlayId.map(g)\n",
    "    df_play_test['ifo_rusher_pc'] = df_play_test.apply(lambda row: get_point_pc(row, point_type='ifo_rusher'), axis=1)\n",
    "    df_play_test['speed_x'] = df_play_test.S * np.cos(df_play_test.Dir_std)\n",
    "    \n",
    "    ## predictions\n",
    "    X_test = df_play_test[features].values\n",
    "    y_pred = np.clip(np.cumsum(cond_regressor.predict_proba(X_test), axis=1), 0, 1)\n",
    "    env.predict(pd.DataFrame(y_pred, columns=columns))\n",
    "env.write_submission_file()"
   ]
  }
 ],
 "metadata": {
  "kernelspec": {
   "display_name": "Python 3",
   "language": "python",
   "name": "python3"
  },
  "language_info": {
   "codemirror_mode": {
    "name": "ipython",
    "version": 3
   },
   "file_extension": ".py",
   "mimetype": "text/x-python",
   "name": "python",
   "nbconvert_exporter": "python",
   "pygments_lexer": "ipython3",
   "version": "3.6.8"
  }
 },
 "nbformat": 4,
 "nbformat_minor": 1
}
