{
 "cells": [
  {
   "cell_type": "code",
   "execution_count": 1,
   "metadata": {},
   "outputs": [],
   "source": [
    "import numpy as np\n",
    "import pandas as pd\n",
    "from scipy.stats import norm, spearmanr\n",
    "from sklearn.neighbors import KernelDensity\n",
    "import pickle\n",
    "import seaborn as sns\n",
    "\n",
    "from matplotlib import pyplot as plt\n",
    "PATH = '../data/'\n",
    "%matplotlib inline"
   ]
  },
  {
   "cell_type": "markdown",
   "metadata": {},
   "source": [
    "# Functions"
   ]
  },
  {
   "cell_type": "markdown",
   "metadata": {},
   "source": [
    "# Parse data"
   ]
  },
  {
   "cell_type": "code",
   "execution_count": 2,
   "metadata": {},
   "outputs": [
    {
     "data": {
      "text/html": [
       "<div>\n",
       "<style scoped>\n",
       "    .dataframe tbody tr th:only-of-type {\n",
       "        vertical-align: middle;\n",
       "    }\n",
       "\n",
       "    .dataframe tbody tr th {\n",
       "        vertical-align: top;\n",
       "    }\n",
       "\n",
       "    .dataframe thead th {\n",
       "        text-align: right;\n",
       "    }\n",
       "</style>\n",
       "<table border=\"1\" class=\"dataframe\">\n",
       "  <thead>\n",
       "    <tr style=\"text-align: right;\">\n",
       "      <th></th>\n",
       "      <th>GameId</th>\n",
       "      <th>PlayId</th>\n",
       "      <th>Team</th>\n",
       "      <th>X</th>\n",
       "      <th>Y</th>\n",
       "      <th>S</th>\n",
       "      <th>A</th>\n",
       "      <th>Dis</th>\n",
       "      <th>Orientation</th>\n",
       "      <th>Dir</th>\n",
       "      <th>...</th>\n",
       "      <th>Week</th>\n",
       "      <th>Stadium</th>\n",
       "      <th>Location</th>\n",
       "      <th>StadiumType</th>\n",
       "      <th>Turf</th>\n",
       "      <th>GameWeather</th>\n",
       "      <th>Temperature</th>\n",
       "      <th>Humidity</th>\n",
       "      <th>WindSpeed</th>\n",
       "      <th>WindDirection</th>\n",
       "    </tr>\n",
       "  </thead>\n",
       "  <tbody>\n",
       "    <tr>\n",
       "      <th>0</th>\n",
       "      <td>2017090700</td>\n",
       "      <td>20170907000118</td>\n",
       "      <td>away</td>\n",
       "      <td>73.91</td>\n",
       "      <td>34.84</td>\n",
       "      <td>1.69</td>\n",
       "      <td>1.13</td>\n",
       "      <td>0.40</td>\n",
       "      <td>81.99</td>\n",
       "      <td>177.18</td>\n",
       "      <td>...</td>\n",
       "      <td>1</td>\n",
       "      <td>Gillette Stadium</td>\n",
       "      <td>Foxborough, MA</td>\n",
       "      <td>Outdoor</td>\n",
       "      <td>Field Turf</td>\n",
       "      <td>Clear and warm</td>\n",
       "      <td>63.0</td>\n",
       "      <td>77.0</td>\n",
       "      <td>8</td>\n",
       "      <td>SW</td>\n",
       "    </tr>\n",
       "    <tr>\n",
       "      <th>1</th>\n",
       "      <td>2017090700</td>\n",
       "      <td>20170907000118</td>\n",
       "      <td>away</td>\n",
       "      <td>74.67</td>\n",
       "      <td>32.64</td>\n",
       "      <td>0.42</td>\n",
       "      <td>1.35</td>\n",
       "      <td>0.01</td>\n",
       "      <td>27.61</td>\n",
       "      <td>198.70</td>\n",
       "      <td>...</td>\n",
       "      <td>1</td>\n",
       "      <td>Gillette Stadium</td>\n",
       "      <td>Foxborough, MA</td>\n",
       "      <td>Outdoor</td>\n",
       "      <td>Field Turf</td>\n",
       "      <td>Clear and warm</td>\n",
       "      <td>63.0</td>\n",
       "      <td>77.0</td>\n",
       "      <td>8</td>\n",
       "      <td>SW</td>\n",
       "    </tr>\n",
       "    <tr>\n",
       "      <th>2</th>\n",
       "      <td>2017090700</td>\n",
       "      <td>20170907000118</td>\n",
       "      <td>away</td>\n",
       "      <td>74.00</td>\n",
       "      <td>33.20</td>\n",
       "      <td>1.22</td>\n",
       "      <td>0.59</td>\n",
       "      <td>0.31</td>\n",
       "      <td>3.01</td>\n",
       "      <td>202.73</td>\n",
       "      <td>...</td>\n",
       "      <td>1</td>\n",
       "      <td>Gillette Stadium</td>\n",
       "      <td>Foxborough, MA</td>\n",
       "      <td>Outdoor</td>\n",
       "      <td>Field Turf</td>\n",
       "      <td>Clear and warm</td>\n",
       "      <td>63.0</td>\n",
       "      <td>77.0</td>\n",
       "      <td>8</td>\n",
       "      <td>SW</td>\n",
       "    </tr>\n",
       "    <tr>\n",
       "      <th>3</th>\n",
       "      <td>2017090700</td>\n",
       "      <td>20170907000118</td>\n",
       "      <td>away</td>\n",
       "      <td>71.46</td>\n",
       "      <td>27.70</td>\n",
       "      <td>0.42</td>\n",
       "      <td>0.54</td>\n",
       "      <td>0.02</td>\n",
       "      <td>359.77</td>\n",
       "      <td>105.64</td>\n",
       "      <td>...</td>\n",
       "      <td>1</td>\n",
       "      <td>Gillette Stadium</td>\n",
       "      <td>Foxborough, MA</td>\n",
       "      <td>Outdoor</td>\n",
       "      <td>Field Turf</td>\n",
       "      <td>Clear and warm</td>\n",
       "      <td>63.0</td>\n",
       "      <td>77.0</td>\n",
       "      <td>8</td>\n",
       "      <td>SW</td>\n",
       "    </tr>\n",
       "    <tr>\n",
       "      <th>4</th>\n",
       "      <td>2017090700</td>\n",
       "      <td>20170907000118</td>\n",
       "      <td>away</td>\n",
       "      <td>69.32</td>\n",
       "      <td>35.42</td>\n",
       "      <td>1.82</td>\n",
       "      <td>2.43</td>\n",
       "      <td>0.16</td>\n",
       "      <td>12.63</td>\n",
       "      <td>164.31</td>\n",
       "      <td>...</td>\n",
       "      <td>1</td>\n",
       "      <td>Gillette Stadium</td>\n",
       "      <td>Foxborough, MA</td>\n",
       "      <td>Outdoor</td>\n",
       "      <td>Field Turf</td>\n",
       "      <td>Clear and warm</td>\n",
       "      <td>63.0</td>\n",
       "      <td>77.0</td>\n",
       "      <td>8</td>\n",
       "      <td>SW</td>\n",
       "    </tr>\n",
       "  </tbody>\n",
       "</table>\n",
       "<p>5 rows × 49 columns</p>\n",
       "</div>"
      ],
      "text/plain": [
       "       GameId          PlayId  Team      X      Y     S     A   Dis  \\\n",
       "0  2017090700  20170907000118  away  73.91  34.84  1.69  1.13  0.40   \n",
       "1  2017090700  20170907000118  away  74.67  32.64  0.42  1.35  0.01   \n",
       "2  2017090700  20170907000118  away  74.00  33.20  1.22  0.59  0.31   \n",
       "3  2017090700  20170907000118  away  71.46  27.70  0.42  0.54  0.02   \n",
       "4  2017090700  20170907000118  away  69.32  35.42  1.82  2.43  0.16   \n",
       "\n",
       "   Orientation     Dir  ...  Week           Stadium        Location  \\\n",
       "0        81.99  177.18  ...     1  Gillette Stadium  Foxborough, MA   \n",
       "1        27.61  198.70  ...     1  Gillette Stadium  Foxborough, MA   \n",
       "2         3.01  202.73  ...     1  Gillette Stadium  Foxborough, MA   \n",
       "3       359.77  105.64  ...     1  Gillette Stadium  Foxborough, MA   \n",
       "4        12.63  164.31  ...     1  Gillette Stadium  Foxborough, MA   \n",
       "\n",
       "   StadiumType        Turf     GameWeather Temperature Humidity  WindSpeed  \\\n",
       "0      Outdoor  Field Turf  Clear and warm        63.0     77.0          8   \n",
       "1      Outdoor  Field Turf  Clear and warm        63.0     77.0          8   \n",
       "2      Outdoor  Field Turf  Clear and warm        63.0     77.0          8   \n",
       "3      Outdoor  Field Turf  Clear and warm        63.0     77.0          8   \n",
       "4      Outdoor  Field Turf  Clear and warm        63.0     77.0          8   \n",
       "\n",
       "   WindDirection  \n",
       "0             SW  \n",
       "1             SW  \n",
       "2             SW  \n",
       "3             SW  \n",
       "4             SW  \n",
       "\n",
       "[5 rows x 49 columns]"
      ]
     },
     "execution_count": 2,
     "metadata": {},
     "output_type": "execute_result"
    }
   ],
   "source": [
    "df = pd.read_csv(PATH + 'train.csv', low_memory=False)\n",
    "df.head()"
   ]
  },
  {
   "cell_type": "code",
   "execution_count": 3,
   "metadata": {
    "scrolled": true
   },
   "outputs": [
    {
     "name": "stdout",
     "output_type": "stream",
     "text": [
      "<class 'pandas.core.frame.DataFrame'>\n",
      "RangeIndex: 509762 entries, 0 to 509761\n",
      "Data columns (total 49 columns):\n",
      "GameId                    509762 non-null int64\n",
      "PlayId                    509762 non-null int64\n",
      "Team                      509762 non-null object\n",
      "X                         509762 non-null float64\n",
      "Y                         509762 non-null float64\n",
      "S                         509762 non-null float64\n",
      "A                         509762 non-null float64\n",
      "Dis                       509762 non-null float64\n",
      "Orientation               509744 non-null float64\n",
      "Dir                       509748 non-null float64\n",
      "NflId                     509762 non-null int64\n",
      "DisplayName               509762 non-null object\n",
      "JerseyNumber              509762 non-null int64\n",
      "Season                    509762 non-null int64\n",
      "YardLine                  509762 non-null int64\n",
      "Quarter                   509762 non-null int64\n",
      "GameClock                 509762 non-null object\n",
      "PossessionTeam            509762 non-null object\n",
      "Down                      509762 non-null int64\n",
      "Distance                  509762 non-null int64\n",
      "FieldPosition             503338 non-null object\n",
      "HomeScoreBeforePlay       509762 non-null int64\n",
      "VisitorScoreBeforePlay    509762 non-null int64\n",
      "NflIdRusher               509762 non-null int64\n",
      "OffenseFormation          509652 non-null object\n",
      "OffensePersonnel          509762 non-null object\n",
      "DefendersInTheBox         509696 non-null float64\n",
      "DefensePersonnel          509762 non-null object\n",
      "PlayDirection             509762 non-null object\n",
      "TimeHandoff               509762 non-null object\n",
      "TimeSnap                  509762 non-null object\n",
      "Yards                     509762 non-null int64\n",
      "PlayerHeight              509762 non-null object\n",
      "PlayerWeight              509762 non-null int64\n",
      "PlayerBirthDate           509762 non-null object\n",
      "PlayerCollegeName         509762 non-null object\n",
      "Position                  509762 non-null object\n",
      "HomeTeamAbbr              509762 non-null object\n",
      "VisitorTeamAbbr           509762 non-null object\n",
      "Week                      509762 non-null int64\n",
      "Stadium                   509762 non-null object\n",
      "Location                  509762 non-null object\n",
      "StadiumType               476828 non-null object\n",
      "Turf                      509762 non-null object\n",
      "GameWeather               466114 non-null object\n",
      "Temperature               461230 non-null float64\n",
      "Humidity                  503602 non-null float64\n",
      "WindSpeed                 442332 non-null object\n",
      "WindDirection             429528 non-null object\n",
      "dtypes: float64(10), int64(15), object(24)\n",
      "memory usage: 190.6+ MB\n"
     ]
    }
   ],
   "source": [
    "df.info()"
   ]
  },
  {
   "cell_type": "code",
   "execution_count": 4,
   "metadata": {},
   "outputs": [
    {
     "data": {
      "text/html": [
       "<div>\n",
       "<style scoped>\n",
       "    .dataframe tbody tr th:only-of-type {\n",
       "        vertical-align: middle;\n",
       "    }\n",
       "\n",
       "    .dataframe tbody tr th {\n",
       "        vertical-align: top;\n",
       "    }\n",
       "\n",
       "    .dataframe thead th {\n",
       "        text-align: right;\n",
       "    }\n",
       "</style>\n",
       "<table border=\"1\" class=\"dataframe\">\n",
       "  <thead>\n",
       "    <tr style=\"text-align: right;\">\n",
       "      <th></th>\n",
       "      <th>GameId</th>\n",
       "      <th>PlayId</th>\n",
       "      <th>X</th>\n",
       "      <th>Y</th>\n",
       "      <th>S</th>\n",
       "      <th>A</th>\n",
       "      <th>Dis</th>\n",
       "      <th>Orientation</th>\n",
       "      <th>Dir</th>\n",
       "      <th>NflId</th>\n",
       "      <th>...</th>\n",
       "      <th>Distance</th>\n",
       "      <th>HomeScoreBeforePlay</th>\n",
       "      <th>VisitorScoreBeforePlay</th>\n",
       "      <th>NflIdRusher</th>\n",
       "      <th>DefendersInTheBox</th>\n",
       "      <th>Yards</th>\n",
       "      <th>PlayerWeight</th>\n",
       "      <th>Week</th>\n",
       "      <th>Temperature</th>\n",
       "      <th>Humidity</th>\n",
       "    </tr>\n",
       "  </thead>\n",
       "  <tbody>\n",
       "    <tr>\n",
       "      <th>count</th>\n",
       "      <td>5.097620e+05</td>\n",
       "      <td>5.097620e+05</td>\n",
       "      <td>509762.000000</td>\n",
       "      <td>509762.000000</td>\n",
       "      <td>509762.000000</td>\n",
       "      <td>509762.000000</td>\n",
       "      <td>509762.000000</td>\n",
       "      <td>509744.000000</td>\n",
       "      <td>509748.000000</td>\n",
       "      <td>5.097620e+05</td>\n",
       "      <td>...</td>\n",
       "      <td>509762.000000</td>\n",
       "      <td>509762.000000</td>\n",
       "      <td>509762.000000</td>\n",
       "      <td>5.097620e+05</td>\n",
       "      <td>509696.000000</td>\n",
       "      <td>509762.000000</td>\n",
       "      <td>509762.000000</td>\n",
       "      <td>509762.000000</td>\n",
       "      <td>461230.000000</td>\n",
       "      <td>503602.000000</td>\n",
       "    </tr>\n",
       "    <tr>\n",
       "      <th>mean</th>\n",
       "      <td>2.017594e+09</td>\n",
       "      <td>2.017594e+13</td>\n",
       "      <td>60.040304</td>\n",
       "      <td>26.783535</td>\n",
       "      <td>2.591912</td>\n",
       "      <td>1.683176</td>\n",
       "      <td>0.279406</td>\n",
       "      <td>180.247779</td>\n",
       "      <td>179.933859</td>\n",
       "      <td>2.344703e+06</td>\n",
       "      <td>...</td>\n",
       "      <td>8.329248</td>\n",
       "      <td>11.148073</td>\n",
       "      <td>9.501057</td>\n",
       "      <td>2.419204e+06</td>\n",
       "      <td>6.943025</td>\n",
       "      <td>4.212334</td>\n",
       "      <td>253.554388</td>\n",
       "      <td>9.096370</td>\n",
       "      <td>60.436442</td>\n",
       "      <td>55.646062</td>\n",
       "    </tr>\n",
       "    <tr>\n",
       "      <th>std</th>\n",
       "      <td>4.997098e+05</td>\n",
       "      <td>4.997098e+09</td>\n",
       "      <td>25.435261</td>\n",
       "      <td>7.238206</td>\n",
       "      <td>1.383601</td>\n",
       "      <td>0.976412</td>\n",
       "      <td>0.145482</td>\n",
       "      <td>104.298330</td>\n",
       "      <td>106.319488</td>\n",
       "      <td>6.418871e+05</td>\n",
       "      <td>...</td>\n",
       "      <td>3.795208</td>\n",
       "      <td>10.277098</td>\n",
       "      <td>9.366413</td>\n",
       "      <td>5.357783e+05</td>\n",
       "      <td>0.991130</td>\n",
       "      <td>6.436167</td>\n",
       "      <td>48.367386</td>\n",
       "      <td>5.000984</td>\n",
       "      <td>17.570291</td>\n",
       "      <td>25.430976</td>\n",
       "    </tr>\n",
       "    <tr>\n",
       "      <th>min</th>\n",
       "      <td>2.017091e+09</td>\n",
       "      <td>2.017091e+13</td>\n",
       "      <td>0.660000</td>\n",
       "      <td>1.850000</td>\n",
       "      <td>0.000000</td>\n",
       "      <td>0.000000</td>\n",
       "      <td>0.000000</td>\n",
       "      <td>0.000000</td>\n",
       "      <td>0.000000</td>\n",
       "      <td>2.220000e+02</td>\n",
       "      <td>...</td>\n",
       "      <td>1.000000</td>\n",
       "      <td>0.000000</td>\n",
       "      <td>0.000000</td>\n",
       "      <td>2.340000e+02</td>\n",
       "      <td>1.000000</td>\n",
       "      <td>-14.000000</td>\n",
       "      <td>153.000000</td>\n",
       "      <td>1.000000</td>\n",
       "      <td>9.000000</td>\n",
       "      <td>0.000000</td>\n",
       "    </tr>\n",
       "    <tr>\n",
       "      <th>25%</th>\n",
       "      <td>2.017111e+09</td>\n",
       "      <td>2.017111e+13</td>\n",
       "      <td>39.090000</td>\n",
       "      <td>22.730000</td>\n",
       "      <td>1.500000</td>\n",
       "      <td>0.940000</td>\n",
       "      <td>0.170000</td>\n",
       "      <td>90.630000</td>\n",
       "      <td>89.830000</td>\n",
       "      <td>2.532865e+06</td>\n",
       "      <td>...</td>\n",
       "      <td>6.000000</td>\n",
       "      <td>3.000000</td>\n",
       "      <td>0.000000</td>\n",
       "      <td>2.540011e+06</td>\n",
       "      <td>6.000000</td>\n",
       "      <td>1.000000</td>\n",
       "      <td>210.000000</td>\n",
       "      <td>5.000000</td>\n",
       "      <td>48.000000</td>\n",
       "      <td>43.000000</td>\n",
       "    </tr>\n",
       "    <tr>\n",
       "      <th>50%</th>\n",
       "      <td>2.017123e+09</td>\n",
       "      <td>2.017123e+13</td>\n",
       "      <td>60.290000</td>\n",
       "      <td>26.790000</td>\n",
       "      <td>2.470000</td>\n",
       "      <td>1.540000</td>\n",
       "      <td>0.270000</td>\n",
       "      <td>179.700000</td>\n",
       "      <td>180.090000</td>\n",
       "      <td>2.543765e+06</td>\n",
       "      <td>...</td>\n",
       "      <td>10.000000</td>\n",
       "      <td>9.000000</td>\n",
       "      <td>7.000000</td>\n",
       "      <td>2.552582e+06</td>\n",
       "      <td>7.000000</td>\n",
       "      <td>3.000000</td>\n",
       "      <td>245.000000</td>\n",
       "      <td>9.000000</td>\n",
       "      <td>62.000000</td>\n",
       "      <td>59.000000</td>\n",
       "    </tr>\n",
       "    <tr>\n",
       "      <th>75%</th>\n",
       "      <td>2.018110e+09</td>\n",
       "      <td>2.018110e+13</td>\n",
       "      <td>80.970000</td>\n",
       "      <td>30.860000</td>\n",
       "      <td>3.560000</td>\n",
       "      <td>2.290000</td>\n",
       "      <td>0.390000</td>\n",
       "      <td>270.400000</td>\n",
       "      <td>270.190000</td>\n",
       "      <td>2.555343e+06</td>\n",
       "      <td>...</td>\n",
       "      <td>10.000000</td>\n",
       "      <td>17.000000</td>\n",
       "      <td>14.000000</td>\n",
       "      <td>2.557976e+06</td>\n",
       "      <td>8.000000</td>\n",
       "      <td>6.000000</td>\n",
       "      <td>305.000000</td>\n",
       "      <td>14.000000</td>\n",
       "      <td>73.000000</td>\n",
       "      <td>71.000000</td>\n",
       "    </tr>\n",
       "    <tr>\n",
       "      <th>max</th>\n",
       "      <td>2.018123e+09</td>\n",
       "      <td>2.018123e+13</td>\n",
       "      <td>116.840000</td>\n",
       "      <td>56.450000</td>\n",
       "      <td>9.410000</td>\n",
       "      <td>14.710000</td>\n",
       "      <td>1.390000</td>\n",
       "      <td>360.000000</td>\n",
       "      <td>360.000000</td>\n",
       "      <td>2.561671e+06</td>\n",
       "      <td>...</td>\n",
       "      <td>40.000000</td>\n",
       "      <td>57.000000</td>\n",
       "      <td>51.000000</td>\n",
       "      <td>2.561468e+06</td>\n",
       "      <td>11.000000</td>\n",
       "      <td>99.000000</td>\n",
       "      <td>380.000000</td>\n",
       "      <td>17.000000</td>\n",
       "      <td>97.000000</td>\n",
       "      <td>100.000000</td>\n",
       "    </tr>\n",
       "  </tbody>\n",
       "</table>\n",
       "<p>8 rows × 25 columns</p>\n",
       "</div>"
      ],
      "text/plain": [
       "             GameId        PlayId              X              Y  \\\n",
       "count  5.097620e+05  5.097620e+05  509762.000000  509762.000000   \n",
       "mean   2.017594e+09  2.017594e+13      60.040304      26.783535   \n",
       "std    4.997098e+05  4.997098e+09      25.435261       7.238206   \n",
       "min    2.017091e+09  2.017091e+13       0.660000       1.850000   \n",
       "25%    2.017111e+09  2.017111e+13      39.090000      22.730000   \n",
       "50%    2.017123e+09  2.017123e+13      60.290000      26.790000   \n",
       "75%    2.018110e+09  2.018110e+13      80.970000      30.860000   \n",
       "max    2.018123e+09  2.018123e+13     116.840000      56.450000   \n",
       "\n",
       "                   S              A            Dis    Orientation  \\\n",
       "count  509762.000000  509762.000000  509762.000000  509744.000000   \n",
       "mean        2.591912       1.683176       0.279406     180.247779   \n",
       "std         1.383601       0.976412       0.145482     104.298330   \n",
       "min         0.000000       0.000000       0.000000       0.000000   \n",
       "25%         1.500000       0.940000       0.170000      90.630000   \n",
       "50%         2.470000       1.540000       0.270000     179.700000   \n",
       "75%         3.560000       2.290000       0.390000     270.400000   \n",
       "max         9.410000      14.710000       1.390000     360.000000   \n",
       "\n",
       "                 Dir         NflId  ...       Distance  HomeScoreBeforePlay  \\\n",
       "count  509748.000000  5.097620e+05  ...  509762.000000        509762.000000   \n",
       "mean      179.933859  2.344703e+06  ...       8.329248            11.148073   \n",
       "std       106.319488  6.418871e+05  ...       3.795208            10.277098   \n",
       "min         0.000000  2.220000e+02  ...       1.000000             0.000000   \n",
       "25%        89.830000  2.532865e+06  ...       6.000000             3.000000   \n",
       "50%       180.090000  2.543765e+06  ...      10.000000             9.000000   \n",
       "75%       270.190000  2.555343e+06  ...      10.000000            17.000000   \n",
       "max       360.000000  2.561671e+06  ...      40.000000            57.000000   \n",
       "\n",
       "       VisitorScoreBeforePlay   NflIdRusher  DefendersInTheBox          Yards  \\\n",
       "count           509762.000000  5.097620e+05      509696.000000  509762.000000   \n",
       "mean                 9.501057  2.419204e+06           6.943025       4.212334   \n",
       "std                  9.366413  5.357783e+05           0.991130       6.436167   \n",
       "min                  0.000000  2.340000e+02           1.000000     -14.000000   \n",
       "25%                  0.000000  2.540011e+06           6.000000       1.000000   \n",
       "50%                  7.000000  2.552582e+06           7.000000       3.000000   \n",
       "75%                 14.000000  2.557976e+06           8.000000       6.000000   \n",
       "max                 51.000000  2.561468e+06          11.000000      99.000000   \n",
       "\n",
       "        PlayerWeight           Week    Temperature       Humidity  \n",
       "count  509762.000000  509762.000000  461230.000000  503602.000000  \n",
       "mean      253.554388       9.096370      60.436442      55.646062  \n",
       "std        48.367386       5.000984      17.570291      25.430976  \n",
       "min       153.000000       1.000000       9.000000       0.000000  \n",
       "25%       210.000000       5.000000      48.000000      43.000000  \n",
       "50%       245.000000       9.000000      62.000000      59.000000  \n",
       "75%       305.000000      14.000000      73.000000      71.000000  \n",
       "max       380.000000      17.000000      97.000000     100.000000  \n",
       "\n",
       "[8 rows x 25 columns]"
      ]
     },
     "execution_count": 4,
     "metadata": {},
     "output_type": "execute_result"
    }
   ],
   "source": [
    "df.describe()"
   ]
  },
  {
   "cell_type": "code",
   "execution_count": 5,
   "metadata": {},
   "outputs": [
    {
     "data": {
      "text/plain": [
       "(11900, 11271)"
      ]
     },
     "execution_count": 5,
     "metadata": {},
     "output_type": "execute_result"
    }
   ],
   "source": [
    "df_play = df[df.NflId == df.NflIdRusher]\n",
    "len(df_play[df_play.Season == 2017]), len(df_play[df_play.Season == 2018])"
   ]
  },
  {
   "cell_type": "markdown",
   "metadata": {},
   "source": [
    "# Single feature analysis"
   ]
  },
  {
   "cell_type": "markdown",
   "metadata": {},
   "source": [
    "## Numerical"
   ]
  },
  {
   "cell_type": "code",
   "execution_count": 6,
   "metadata": {},
   "outputs": [
    {
     "data": {
      "text/plain": [
       "array(['GameId', 'PlayId', 'X', 'Y', 'S', 'A', 'Dis', 'Orientation',\n",
       "       'Dir', 'NflId', 'JerseyNumber', 'Season', 'YardLine', 'Quarter',\n",
       "       'Down', 'Distance', 'HomeScoreBeforePlay',\n",
       "       'VisitorScoreBeforePlay', 'NflIdRusher', 'DefendersInTheBox',\n",
       "       'Yards', 'PlayerWeight', 'Week', 'Temperature', 'Humidity'],\n",
       "      dtype=object)"
      ]
     },
     "execution_count": 6,
     "metadata": {},
     "output_type": "execute_result"
    }
   ],
   "source": [
    "numerical_cols = np.array(df.dtypes[df.dtypes != 'object'].index)\n",
    "numerical_cols"
   ]
  },
  {
   "cell_type": "markdown",
   "metadata": {},
   "source": [
    "### Game and Play Ids"
   ]
  },
  {
   "cell_type": "code",
   "execution_count": 7,
   "metadata": {},
   "outputs": [
    {
     "data": {
      "text/plain": [
       "(512, 23171, True)"
      ]
     },
     "execution_count": 7,
     "metadata": {},
     "output_type": "execute_result"
    }
   ],
   "source": [
    "df.GameId.nunique(), df.PlayId.nunique(), df.PlayId.nunique() * 22 == len(df)"
   ]
  },
  {
   "cell_type": "code",
   "execution_count": 8,
   "metadata": {},
   "outputs": [
    {
     "data": {
      "text/plain": [
       "array([ 9, 10, 11, 12])"
      ]
     },
     "execution_count": 8,
     "metadata": {},
     "output_type": "execute_result"
    }
   ],
   "source": [
    "df['month'] = df.GameId.apply(lambda x: int(str(x)[4:6])) \n",
    "df.month.unique()"
   ]
  },
  {
   "cell_type": "markdown",
   "metadata": {},
   "source": [
    "### Nfl Id and Nfl Id Rusher"
   ]
  },
  {
   "cell_type": "code",
   "execution_count": 9,
   "metadata": {},
   "outputs": [
    {
     "data": {
      "text/plain": [
       "(2231, 371)"
      ]
     },
     "execution_count": 9,
     "metadata": {},
     "output_type": "execute_result"
    }
   ],
   "source": [
    "df.NflId.nunique(), df.NflIdRusher.nunique()"
   ]
  },
  {
   "cell_type": "code",
   "execution_count": 13,
   "metadata": {},
   "outputs": [
    {
     "data": {
      "text/plain": [
       "2555224    537\n",
       "2552475    533\n",
       "2555418    518\n",
       "2552469    455\n",
       "2557917    450\n",
       "          ... \n",
       "2550400      1\n",
       "2553896      1\n",
       "2550256      1\n",
       "2543509      1\n",
       "2504775      1\n",
       "Name: NflIdRusher, Length: 371, dtype: int64"
      ]
     },
     "execution_count": 13,
     "metadata": {},
     "output_type": "execute_result"
    }
   ],
   "source": [
    "df_play.NflIdRusher.value_counts()"
   ]
  },
  {
   "cell_type": "markdown",
   "metadata": {},
   "source": [
    "### Yards (target)"
   ]
  },
  {
   "cell_type": "code",
   "execution_count": 11,
   "metadata": {},
   "outputs": [
    {
     "data": {
      "text/plain": [
       "(-14, 99)"
      ]
     },
     "execution_count": 11,
     "metadata": {},
     "output_type": "execute_result"
    }
   ],
   "source": [
    "df.Yards.min(), df.Yards.max()"
   ]
  },
  {
   "cell_type": "code",
   "execution_count": 76,
   "metadata": {},
   "outputs": [
    {
     "data": {
      "image/png": "[encoded data removed]",
      "text/plain": [
       "<Figure size 1080x432 with 1 Axes>"
      ]
     },
     "metadata": {
      "needs_background": "light"
     },
     "output_type": "display_data"
    }
   ],
   "source": [
    "plt.figure(figsize=(15, 6))\n",
    "plt.hist(df[df.Season == 2017].Yards, bins=40)\n",
    "plt.hist(df[df.Season == 2018].Yards, bins=40)\n",
    "\n",
    "plt.grid()\n",
    "plt.show()"
   ]
  },
  {
   "cell_type": "code",
   "execution_count": 13,
   "metadata": {},
   "outputs": [
    {
     "data": {
      "text/plain": [
       "(56342, 47190, 406230, 221342)"
      ]
     },
     "execution_count": 13,
     "metadata": {},
     "output_type": "execute_result"
    }
   ],
   "source": [
    "len(df[df.Yards < 0]), len(df[df.Yards == 0]), len(df[df.Yards > 0]), len(df[df.Yards > 3.5])"
   ]
  },
  {
   "cell_type": "markdown",
   "metadata": {},
   "source": [
    "### X, Y"
   ]
  },
  {
   "cell_type": "code",
   "execution_count": 14,
   "metadata": {},
   "outputs": [
    {
     "data": {
      "text/plain": [
       "((0.66, 116.84), (1.85, 56.45))"
      ]
     },
     "execution_count": 14,
     "metadata": {},
     "output_type": "execute_result"
    }
   ],
   "source": [
    "(df.X.min(), df.X.max()), (df.Y.min(), df.Y.max())"
   ]
  },
  {
   "cell_type": "markdown",
   "metadata": {},
   "source": [
    "### Speed (S)"
   ]
  },
  {
   "cell_type": "code",
   "execution_count": 28,
   "metadata": {},
   "outputs": [
    {
     "data": {
      "text/plain": [
       "(0.0, 9.01)"
      ]
     },
     "execution_count": 28,
     "metadata": {},
     "output_type": "execute_result"
    }
   ],
   "source": [
    "min_17, max_17 = df[df.Season == 2017].S.min(), df[df.Season == 2017].S.max()\n",
    "min_17, max_17"
   ]
  },
  {
   "cell_type": "code",
   "execution_count": 29,
   "metadata": {},
   "outputs": [
    {
     "data": {
      "text/plain": [
       "(0.0, 9.41)"
      ]
     },
     "execution_count": 29,
     "metadata": {},
     "output_type": "execute_result"
    }
   ],
   "source": [
    "min_18, max_18 = df[df.Season == 2018].S.min(), df[df.Season == 2018].S.max()\n",
    "min_18, max_18"
   ]
  },
  {
   "cell_type": "code",
   "execution_count": 45,
   "metadata": {},
   "outputs": [
    {
     "data": {
      "image/png": "[encoded data removed]",
      "text/plain": [
       "<Figure size 1080x432 with 1 Axes>"
      ]
     },
     "metadata": {
      "needs_background": "light"
     },
     "output_type": "display_data"
    }
   ],
   "source": [
    "plt.figure(figsize=(15, 6))\n",
    "plt.hist(df[df.Season == 2017].S, bins=40)\n",
    "plt.hist(df[df.Season == 2018].S, bins=40)\n",
    "\n",
    "plt.show()"
   ]
  },
  {
   "cell_type": "code",
   "execution_count": 16,
   "metadata": {},
   "outputs": [
    {
     "data": {
      "image/png": "[encoded data removed]",
      "text/plain": [
       "<Figure size 1008x432 with 1 Axes>"
      ]
     },
     "metadata": {
      "needs_background": "light"
     },
     "output_type": "display_data"
    }
   ],
   "source": [
    "plt.figure(figsize=(14, 6))\n",
    "df['week_number'] = (df.Season - 2017)* 17 + df.Week\n",
    "g = df.groupby('week_number').S.mean()\n",
    "plt.plot(df.week_number, df.week_number.map(g))\n",
    "plt.title('Time series of speed')\n",
    "plt.xlabel('Week number')\n",
    "plt.ylabel('Speed, yards per sec')\n",
    "\n",
    "\n",
    "plt.grid()\n",
    "plt.show()"
   ]
  },
  {
   "cell_type": "code",
   "execution_count": 17,
   "metadata": {},
   "outputs": [
    {
     "data": {
      "text/plain": [
       "(2.435519556913674, 2.7570316419451366)"
      ]
     },
     "execution_count": 17,
     "metadata": {},
     "output_type": "execute_result"
    }
   ],
   "source": [
    "df[df.Season == 2017].S.mean(), df[df.Season == 2018].S.mean()"
   ]
  },
  {
   "cell_type": "code",
   "execution_count": 18,
   "metadata": {},
   "outputs": [
    {
     "data": {
      "text/plain": [
       "(1.2929623410155868, 1.4551321358655713)"
      ]
     },
     "execution_count": 18,
     "metadata": {},
     "output_type": "execute_result"
    }
   ],
   "source": [
    "df[df.Season == 2017].S.std(), df[df.Season == 2018].S.std()"
   ]
  },
  {
   "cell_type": "markdown",
   "metadata": {},
   "source": [
    "### Acceleration (A)"
   ]
  },
  {
   "cell_type": "code",
   "execution_count": 68,
   "metadata": {},
   "outputs": [
    {
     "data": {
      "text/plain": [
       "(0.0, 10.0)"
      ]
     },
     "execution_count": 68,
     "metadata": {},
     "output_type": "execute_result"
    }
   ],
   "source": [
    "df.A.min(), df.A.max()"
   ]
  },
  {
   "cell_type": "code",
   "execution_count": 69,
   "metadata": {},
   "outputs": [
    {
     "data": {
      "image/png": "[encoded data removed]",
      "text/plain": [
       "<Figure size 1080x432 with 1 Axes>"
      ]
     },
     "metadata": {
      "needs_background": "light"
     },
     "output_type": "display_data"
    }
   ],
   "source": [
    "plt.figure(figsize=(15, 6))\n",
    "plt.hist(df[df.Season == 2018].A, bins=40)\n",
    "plt.hist(df[df.Season == 2017].A, bins=40)\n",
    "\n",
    "plt.show()"
   ]
  },
  {
   "cell_type": "code",
   "execution_count": 70,
   "metadata": {},
   "outputs": [
    {
     "data": {
      "image/png": "[encoded data removed]",
      "text/plain": [
       "<Figure size 1008x432 with 1 Axes>"
      ]
     },
     "metadata": {
      "needs_background": "light"
     },
     "output_type": "display_data"
    }
   ],
   "source": [
    "plt.figure(figsize=(14, 6))\n",
    "df['week_number'] = (df.Season - 2017)* 17 + df.Week\n",
    "g = df.groupby('week_number').A.mean()\n",
    "plt.plot(df.week_number, df.week_number.map(g))\n",
    "plt.title('Time series of acceleration')\n",
    "plt.xlabel('Week number')\n",
    "plt.ylabel('Acceleration, yards per sec')\n",
    "\n",
    "\n",
    "plt.grid()\n",
    "plt.show()"
   ]
  },
  {
   "cell_type": "markdown",
   "metadata": {},
   "source": [
    "### Dir, Dis, Orientation"
   ]
  },
  {
   "cell_type": "code",
   "execution_count": 57,
   "metadata": {},
   "outputs": [
    {
     "data": {
      "text/plain": [
       "(0.0, 360.0)"
      ]
     },
     "execution_count": 57,
     "metadata": {},
     "output_type": "execute_result"
    }
   ],
   "source": [
    "df.Dir.min(), df.Dir.max()"
   ]
  },
  {
   "cell_type": "code",
   "execution_count": 56,
   "metadata": {},
   "outputs": [
    {
     "data": {
      "text/plain": [
       "(0.0, 360.0)"
      ]
     },
     "execution_count": 56,
     "metadata": {},
     "output_type": "execute_result"
    }
   ],
   "source": [
    "df.Orientation.min(), df.Orientation.max()"
   ]
  },
  {
   "cell_type": "code",
   "execution_count": 58,
   "metadata": {},
   "outputs": [
    {
     "data": {
      "text/plain": [
       "(0.0, 1.39)"
      ]
     },
     "execution_count": 58,
     "metadata": {},
     "output_type": "execute_result"
    }
   ],
   "source": [
    "df.Dis.min(), df.Dis.max()"
   ]
  },
  {
   "cell_type": "markdown",
   "metadata": {},
   "source": [
    "### JerseyNumber"
   ]
  },
  {
   "cell_type": "code",
   "execution_count": 62,
   "metadata": {},
   "outputs": [
    {
     "data": {
      "text/plain": [
       "array([29, 97, 50, 56, 38, 55, 39, 23, 49, 22])"
      ]
     },
     "execution_count": 62,
     "metadata": {},
     "output_type": "execute_result"
    }
   ],
   "source": [
    "df.JerseyNumber.unique()[:10]"
   ]
  },
  {
   "cell_type": "markdown",
   "metadata": {},
   "source": [
    "### YardLine (of the scrimmage line)"
   ]
  },
  {
   "cell_type": "code",
   "execution_count": 75,
   "metadata": {},
   "outputs": [
    {
     "data": {
      "text/plain": [
       "array([ 1,  2,  3,  4,  5,  6,  7,  8,  9, 10, 11, 12, 13, 14, 15, 16, 17,\n",
       "       18, 19, 20, 21, 22, 23, 24, 25, 26, 27, 28, 29, 30, 31, 32, 33, 34,\n",
       "       35, 36, 37, 38, 39, 40, 41, 42, 43, 44, 45, 46, 47, 48, 49, 50])"
      ]
     },
     "execution_count": 75,
     "metadata": {},
     "output_type": "execute_result"
    }
   ],
   "source": [
    "df.YardLine.sort_values().unique()"
   ]
  },
  {
   "cell_type": "markdown",
   "metadata": {},
   "source": [
    "### Down "
   ]
  },
  {
   "cell_type": "code",
   "execution_count": 83,
   "metadata": {},
   "outputs": [
    {
     "data": {
      "text/plain": [
       "array([1, 2, 3, 4])"
      ]
     },
     "execution_count": 83,
     "metadata": {},
     "output_type": "execute_result"
    }
   ],
   "source": [
    "df.Down.sort_values().unique()"
   ]
  },
  {
   "cell_type": "markdown",
   "metadata": {},
   "source": [
    "### Distance (to first down)"
   ]
  },
  {
   "cell_type": "code",
   "execution_count": 82,
   "metadata": {},
   "outputs": [
    {
     "data": {
      "text/plain": [
       "array([ 1,  2,  3,  4,  5,  6,  7,  8,  9, 10, 11, 12, 13, 14, 15, 16, 17,\n",
       "       18, 19, 20, 21, 22, 23, 24, 25, 26, 27, 28, 29, 30, 31, 33, 34, 35,\n",
       "       40])"
      ]
     },
     "execution_count": 82,
     "metadata": {},
     "output_type": "execute_result"
    }
   ],
   "source": [
    "df.Distance.sort_values().unique()"
   ]
  },
  {
   "cell_type": "markdown",
   "metadata": {},
   "source": [
    "### Defenders in the box"
   ]
  },
  {
   "cell_type": "code",
   "execution_count": 85,
   "metadata": {},
   "outputs": [
    {
     "data": {
      "text/plain": [
       "array([ 1.,  2.,  3.,  4.,  5.,  6.,  7.,  8.,  9., 10., 11., nan])"
      ]
     },
     "execution_count": 85,
     "metadata": {},
     "output_type": "execute_result"
    }
   ],
   "source": [
    "df.DefendersInTheBox.sort_values().unique()"
   ]
  },
  {
   "cell_type": "markdown",
   "metadata": {},
   "source": [
    "### Player Weight"
   ]
  },
  {
   "cell_type": "code",
   "execution_count": 94,
   "metadata": {},
   "outputs": [
    {
     "data": {
      "text/plain": [
       "(153, 380)"
      ]
     },
     "execution_count": 94,
     "metadata": {},
     "output_type": "execute_result"
    }
   ],
   "source": [
    "df.PlayerWeight.min(), df.PlayerWeight.max()"
   ]
  },
  {
   "cell_type": "markdown",
   "metadata": {},
   "source": [
    "### Week"
   ]
  },
  {
   "cell_type": "code",
   "execution_count": 105,
   "metadata": {
    "scrolled": true
   },
   "outputs": [
    {
     "data": {
      "text/html": [
       "<div>\n",
       "<style scoped>\n",
       "    .dataframe tbody tr th:only-of-type {\n",
       "        vertical-align: middle;\n",
       "    }\n",
       "\n",
       "    .dataframe tbody tr th {\n",
       "        vertical-align: top;\n",
       "    }\n",
       "\n",
       "    .dataframe thead th {\n",
       "        text-align: right;\n",
       "    }\n",
       "</style>\n",
       "<table border=\"1\" class=\"dataframe\">\n",
       "  <thead>\n",
       "    <tr style=\"text-align: right;\">\n",
       "      <th></th>\n",
       "      <th>Season</th>\n",
       "      <th>Week</th>\n",
       "    </tr>\n",
       "  </thead>\n",
       "  <tbody>\n",
       "    <tr>\n",
       "      <th>0</th>\n",
       "      <td>2017</td>\n",
       "      <td>1</td>\n",
       "    </tr>\n",
       "    <tr>\n",
       "      <th>14872</th>\n",
       "      <td>2017</td>\n",
       "      <td>2</td>\n",
       "    </tr>\n",
       "    <tr>\n",
       "      <th>30734</th>\n",
       "      <td>2017</td>\n",
       "      <td>3</td>\n",
       "    </tr>\n",
       "    <tr>\n",
       "      <th>46838</th>\n",
       "      <td>2017</td>\n",
       "      <td>4</td>\n",
       "    </tr>\n",
       "    <tr>\n",
       "      <th>63800</th>\n",
       "      <td>2017</td>\n",
       "      <td>5</td>\n",
       "    </tr>\n",
       "  </tbody>\n",
       "</table>\n",
       "</div>"
      ],
      "text/plain": [
       "       Season  Week\n",
       "0        2017     1\n",
       "14872    2017     2\n",
       "30734    2017     3\n",
       "46838    2017     4\n",
       "63800    2017     5"
      ]
     },
     "execution_count": 105,
     "metadata": {},
     "output_type": "execute_result"
    }
   ],
   "source": [
    "df[['Season', 'Week']].drop_duplicates().head()"
   ]
  },
  {
   "cell_type": "markdown",
   "metadata": {},
   "source": [
    "### Temp and hum"
   ]
  },
  {
   "cell_type": "code",
   "execution_count": 96,
   "metadata": {},
   "outputs": [
    {
     "data": {
      "text/plain": [
       "(9.0, 97.0)"
      ]
     },
     "execution_count": 96,
     "metadata": {},
     "output_type": "execute_result"
    }
   ],
   "source": [
    "df.Temperature.min(), df.Temperature.max()"
   ]
  },
  {
   "cell_type": "code",
   "execution_count": 97,
   "metadata": {},
   "outputs": [
    {
     "data": {
      "text/plain": [
       "(0.0, 100.0)"
      ]
     },
     "execution_count": 97,
     "metadata": {},
     "output_type": "execute_result"
    }
   ],
   "source": [
    "df.Humidity.min(), df.Humidity.max()"
   ]
  }
 ],
 "metadata": {
  "kernelspec": {
   "display_name": "Python 3",
   "language": "python",
   "name": "python3"
  },
  "language_info": {
   "codemirror_mode": {
    "name": "ipython",
    "version": 3
   },
   "file_extension": ".py",
   "mimetype": "text/x-python",
   "name": "python",
   "nbconvert_exporter": "python",
   "pygments_lexer": "ipython3",
   "version": "3.6.8"
  }
 },
 "nbformat": 4,
 "nbformat_minor": 2
}
