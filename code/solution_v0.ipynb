{
 "cells": [
  {
   "cell_type": "code",
   "execution_count": 3,
   "metadata": {
    "_cell_guid": "b1076dfc-b9ad-4769-8c92-a6c4dae69d19",
    "_uuid": "8f2839f25d086af736a60e9eeb907d3b93b6e0e5"
   },
   "outputs": [],
   "source": [
    "import numpy as np\n",
    "import pandas as pd\n",
    "from scipy.stats import norm\n",
    "from sklearn.neighbors import KernelDensity\n",
    "import pickle\n",
    "import seaborn as sns\n",
    "\n",
    "from matplotlib import pyplot as plt\n",
    "PATH = '../data/' # '/kaggle/input/nfl-big-data-bowl-2020/'\n",
    "%matplotlib inline"
   ]
  },
  {
   "cell_type": "code",
   "execution_count": 4,
   "metadata": {},
   "outputs": [],
   "source": [
    "from sklearn.model_selection import TimeSeriesSplit, KFold\n",
    "import lightgbm as lgb"
   ]
  },
  {
   "cell_type": "markdown",
   "metadata": {},
   "source": [
    "# Functions and classes"
   ]
  },
  {
   "cell_type": "code",
   "execution_count": 5,
   "metadata": {},
   "outputs": [],
   "source": [
    "## Model fits on number of yards (as regressor) \n",
    "## and predicts proba density for each yard from -99 to 99 (as multiclassifier)\n",
    "\n",
    "class ConditionalRegressor:\n",
    "    def __init__(self, model, num_percentiles=10, \n",
    "                 kde=KernelDensity(kernel='exponential', metric='manhattan', bandwidth=0.3), \n",
    "                 cv_iter=5, \n",
    "                 window=0):\n",
    "        self.model = model\n",
    "        self.num_percentiles = num_percentiles\n",
    "        self.kde = kde\n",
    "        self.cv_iter = cv_iter\n",
    "        self.window = window\n",
    "        \n",
    "    def get_cv_predictions(self, X, y):\n",
    "        cv = KFold(n_splits=self.cv_iter, shuffle=False)\n",
    "        y_pred = np.zeros(X.shape[0]) \n",
    "        for tr_index, val_index in cv.split(X):\n",
    "            self.model.fit(X[tr_index], y[tr_index])\n",
    "            y_pred[val_index] = self.model.predict(X[val_index])\n",
    "        return y_pred\n",
    "    \n",
    "    def bin_predictions(self, pred):\n",
    "        return np.sum([pred > pct for pct in self.percentiles], axis=0)\n",
    "    \n",
    "    def fit(self, X, y):\n",
    "        ## train regressor on log(y)\n",
    "        y_log = np.where(y >= 0, np.log(1 + np.abs(y)), -np.log(1 + np.abs(y)))\n",
    "        pred = self.get_cv_predictions(X, y_log)\n",
    "        self.model.fit(X, y_log)\n",
    "        \n",
    "        ## bin cv predictions\n",
    "        self.percentiles = np.percentile(pred, np.linspace(1, 99, self.num_percentiles))\n",
    "        pred_binned = self.bin_predictions(pred)\n",
    "        \n",
    "        ## calc distribution for each bin\n",
    "        self.distribution = {}\n",
    "        for interval in range(self.num_percentiles + 1):\n",
    "            filt = [abs(interval - x) <= self.window for x in pred_binned]\n",
    "            self.kde.fit(y[filt, np.newaxis])\n",
    "            self.distribution[interval] = np.exp(self.kde.score_samples(np.arange(-99, 100)[:, np.newaxis]))\n",
    "            self.distribution[interval] /= sum(self.distribution[interval])\n",
    "    \n",
    "    def plot_importances(self, column_names, importances=[], h_size=15, v_size=20):\n",
    "        FI = pd.DataFrame()\n",
    "        FI[\"names\"] = column_names\n",
    "        if len(importances) == 0:\n",
    "            FI[\"importances\"] = self.model.feature_importances_\n",
    "        else:\n",
    "            FI[\"importances\"] = importances\n",
    "        plt.figure(figsize=(h_size, v_size))\n",
    "        sns.barplot(data=FI.sort_values(by=\"importances\", ascending=False), \n",
    "                    x=\"importances\", y=\"names\")\n",
    "        plt.title(\"Feature importances\")\n",
    "    \n",
    "    def predict_proba(self, X):\n",
    "        pred = self.model.predict(X)\n",
    "        pred_binned = self.bin_predictions(pred)\n",
    "        return np.array([self.distribution[x] for x in pred_binned])"
   ]
  },
  {
   "cell_type": "code",
   "execution_count": 6,
   "metadata": {},
   "outputs": [],
   "source": [
    "def srps_score(y_true, y_pred):\n",
    "    score = 0\n",
    "    y_pred_cumsum = np.cumsum(y_pred, axis=1)\n",
    "    for n in range(199):\n",
    "         score += ((y_pred_cumsum[:, n] - np.where(n - 99 >= y_true, 1, 0))**2).sum()\n",
    "    return score/(199 * len(y_true))"
   ]
  },
  {
   "cell_type": "code",
   "execution_count": 7,
   "metadata": {},
   "outputs": [],
   "source": [
    "def evaluate_model(model, df, features, n_splits=3, print_process=True):\n",
    "    scores = []\n",
    "    X_17 = df.loc[df.Season == 2017, features].values\n",
    "    y_17 = df.loc[df.Season == 2017, 'Yards'].values\n",
    "    X_18 = df.loc[df.Season == 2018, features].values\n",
    "    y_18 = df.loc[df.Season == 2018, 'Yards'].values\n",
    "    cv = TimeSeriesSplit(n_splits=n_splits)\n",
    "    cnt = 1\n",
    "    for tr_index, val_index in cv.split(X_18):\n",
    "        model.fit(np.vstack((X_17, X_18[tr_index])), \n",
    "                  np.hstack((y_17, y_18[tr_index])))\n",
    "        y_pred = model.predict_proba(X_18[val_index])\n",
    "        score = srps_score(y_18[val_index], y_pred)\n",
    "        if print_process:\n",
    "            print(\"SRPS =\", score, \" on fold\", cnt)\n",
    "        scores.append(score)\n",
    "        cnt += 1\n",
    "    scores = np.array(scores)\n",
    "    if print_process:\n",
    "        print(\"Mean SRPS:\", scores.mean())\n",
    "        print(\"Std of SRPS:\", scores.std())\n",
    "    return scores"
   ]
  },
  {
   "cell_type": "code",
   "execution_count": 8,
   "metadata": {},
   "outputs": [],
   "source": [
    "def plot_custom_importances(model, df, features, scores=[], v_size=5):\n",
    "    ## Calc score with every feature\n",
    "    if len(scores) == 0:\n",
    "        scores_with = evaluate_model(model, df, features, print_process=False)\n",
    "    else:\n",
    "        scores_with = np.array(scores)\n",
    "        \n",
    "    # Calc score without fixed feature\n",
    "    importances = []\n",
    "    for col in features:\n",
    "        other_features = list(features)\n",
    "        other_features.remove(col)\n",
    "        scores_without = evaluate_model(model, df, other_features, print_process=False)\n",
    "        scores_diff = scores_without - scores_with\n",
    "        importances.append(scores_diff.mean())\n",
    "        \n",
    "    # plot importances\n",
    "    model.plot_importances(features, importances=importances, v_size=v_size)"
   ]
  },
  {
   "cell_type": "markdown",
   "metadata": {},
   "source": [
    "# Parse data"
   ]
  },
  {
   "cell_type": "code",
   "execution_count": 9,
   "metadata": {
    "_cell_guid": "79c7e3d0-c299-4dcb-8224-4455121ee9b0",
    "_uuid": "d629ff2d2480ee46fbb7e2d37f6b5fab8052498a"
   },
   "outputs": [],
   "source": [
    "df = pd.read_csv(PATH + 'train.csv', low_memory=False).select_dtypes(include=np.number)\n",
    "df_play = df[df.NflId==df.NflIdRusher].reset_index(drop=True)\n",
    "features = df_play.drop(['GameId', 'PlayId', 'NflIdRusher', 'Yards', 'Down', 'Distance', 'Dir', 'Dis', \n",
    "                         'VisitorScoreBeforePlay', 'HomeScoreBeforePlay', 'Humidity', 'Temperature', \n",
    "                         'Week', 'Season', 'NflId', 'PlayerWeight', 'JerseyNumber', 'Quarter', 'X', 'Y'], axis=1).select_dtypes(include=np.number).columns.tolist()"
   ]
  },
  {
   "cell_type": "markdown",
   "metadata": {},
   "source": [
    "# Modelling"
   ]
  },
  {
   "cell_type": "markdown",
   "metadata": {},
   "source": [
    "## Load evaluation result of previous solution"
   ]
  },
  {
   "cell_type": "code",
   "execution_count": 10,
   "metadata": {},
   "outputs": [
    {
     "data": {
      "text/plain": [
       "0.013549927333846254"
      ]
     },
     "execution_count": 10,
     "metadata": {},
     "output_type": "execute_result"
    }
   ],
   "source": [
    "with open('../data/solution_score.pkl', 'rb') as fout:\n",
    "    solution_scores = pickle.load(fout)\n",
    "solution_scores['v0'].mean()"
   ]
  },
  {
   "cell_type": "markdown",
   "metadata": {},
   "source": [
    "## Evaluate model"
   ]
  },
  {
   "cell_type": "code",
   "execution_count": 11,
   "metadata": {},
   "outputs": [],
   "source": [
    "X_train = df_play[features].fillna(-999).values\n",
    "y_train = df_play.Yards.values"
   ]
  },
  {
   "cell_type": "code",
   "execution_count": 13,
   "metadata": {},
   "outputs": [],
   "source": [
    "lgb_regressor = lgb.LGBMRegressor(n_estimators=30, \n",
    "                                  learning_rate=0.1, \n",
    "                                  num_leaves=12,\n",
    "                                  max_depth=5,\n",
    "                                  colsample_bytree=0.8,\n",
    "                                  subsample=0.8,\n",
    "                                  reg_alpha=0.5,\n",
    "                                  reg_lambda=0.5,\n",
    "                                  random_state=228)\n",
    "cond_regressor = ConditionalRegressor(lgb_regressor)"
   ]
  },
  {
   "cell_type": "code",
   "execution_count": 14,
   "metadata": {
    "scrolled": true
   },
   "outputs": [
    {
     "name": "stdout",
     "output_type": "stream",
     "text": [
      "SRPS = 0.014897033817097166  on fold 1\n",
      "SRPS = 0.0142716257612068  on fold 2\n",
      "SRPS = 0.014808078518659328  on fold 3\n",
      "SRPS = 0.01481761021276904  on fold 4\n",
      "SRPS = 0.014088704190596518  on fold 5\n",
      "Mean SRPS: 0.01457661050006577\n",
      "Std of SRPS: 0.0003302719076787696\n"
     ]
    }
   ],
   "source": [
    "scores = evaluate_model(cond_regressor, df_play, features, \n",
    "                        n_splits=5)"
   ]
  },
  {
   "cell_type": "code",
   "execution_count": 15,
   "metadata": {},
   "outputs": [
    {
     "data": {
      "image/png": "[encoded data removed]",
      "text/plain": [
       "<Figure size 1080x360 with 1 Axes>"
      ]
     },
     "metadata": {
      "needs_background": "light"
     },
     "output_type": "display_data"
    }
   ],
   "source": [
    "cond_regressor.plot_importances(features, v_size=5)"
   ]
  },
  {
   "cell_type": "code",
   "execution_count": 16,
   "metadata": {},
   "outputs": [
    {
     "name": "stdout",
     "output_type": "stream",
     "text": [
      "CPU times: user 13.7 s, sys: 68.3 ms, total: 13.8 s\n",
      "Wall time: 5.99 s\n"
     ]
    },
    {
     "data": {
      "image/png": "[encoded data removed]",
      "text/plain": [
       "<Figure size 1080x360 with 1 Axes>"
      ]
     },
     "metadata": {
      "needs_background": "light"
     },
     "output_type": "display_data"
    }
   ],
   "source": [
    "%%time\n",
    "plot_custom_importances(cond_regressor, df_play, features, v_size=5)"
   ]
  },
  {
   "cell_type": "markdown",
   "metadata": {},
   "source": [
    "## Save evaluation result"
   ]
  },
  {
   "cell_type": "code",
   "execution_count": 92,
   "metadata": {},
   "outputs": [],
   "source": [
    "solution_scores = {}\n",
    "solution_scores['v0'] = scores\n",
    "with open('../data/solution_score.pkl', 'wb') as fout:\n",
    "    pickle.dump(solution_scores, fout, protocol=pickle.HIGHEST_PROTOCOL)"
   ]
  },
  {
   "cell_type": "markdown",
   "metadata": {},
   "source": [
    "## Fit model"
   ]
  },
  {
   "cell_type": "code",
   "execution_count": 341,
   "metadata": {},
   "outputs": [
    {
     "name": "stdout",
     "output_type": "stream",
     "text": [
      "CPU times: user 3.54 s, sys: 24.1 ms, total: 3.56 s\n",
      "Wall time: 1.06 s\n"
     ]
    }
   ],
   "source": [
    "%%time\n",
    "cond_regressor.fit(X_train, y_train)"
   ]
  },
  {
   "cell_type": "markdown",
   "metadata": {},
   "source": [
    "# Predict on test"
   ]
  },
  {
   "cell_type": "code",
   "execution_count": null,
   "metadata": {},
   "outputs": [],
   "source": [
    "from kaggle.competitions import nflrush\n",
    "env = nflrush.make_env()\n",
    "columns = ['Yards' + str(i) for i in range(-99, 100)]\n",
    "\n",
    "for df_test, _ in env.iter_test():\n",
    "    X_test = df_test.loc[df_test.NflId == df_test.NflIdRusher, \n",
    "                         features].reset_index(drop=True).fillna(-999).values\n",
    "    y_pred = np.clip(np.cumsum(cond_regressor.predict_proba(X_test), axis=1), 0, 1)\n",
    "    env.predict(pd.DataFrame(y_pred, columns=columns))\n",
    "env.write_submission_file()"
   ]
  }
 ],
 "metadata": {
  "kernelspec": {
   "display_name": "Python 3",
   "language": "python",
   "name": "python3"
  },
  "language_info": {
   "codemirror_mode": {
    "name": "ipython",
    "version": 3
   },
   "file_extension": ".py",
   "mimetype": "text/x-python",
   "name": "python",
   "nbconvert_exporter": "python",
   "pygments_lexer": "ipython3",
   "version": "3.6.8"
  }
 },
 "nbformat": 4,
 "nbformat_minor": 1
}
