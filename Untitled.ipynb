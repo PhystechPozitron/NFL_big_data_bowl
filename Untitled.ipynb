{
 "cells": [
  {
   "cell_type": "code",
   "execution_count": 186,
   "metadata": {},
   "outputs": [],
   "source": [
    "import pandas as pd\n",
    "import numpy as np\n",
    "from scipy.stats import ttest_ind\n",
    "from scipy import stats\n",
    "from statsmodels.stats.proportion import proportion_confint\n",
    "import seaborn as sns"
   ]
  },
  {
   "cell_type": "code",
   "execution_count": 187,
   "metadata": {},
   "outputs": [],
   "source": [
    "data = pd.read_csv('~/Downloads/Статистика за 2018 год.csv', sep=',', skiprows=1, header=None, names = ['n','v','m'])"
   ]
  },
  {
   "cell_type": "markdown",
   "metadata": {},
   "source": [
    "# Задача 1"
   ]
  },
  {
   "cell_type": "code",
   "execution_count": 188,
   "metadata": {},
   "outputs": [],
   "source": [
    "data1 = np.array(np.where(data.loc[data.m == 'A']['n'] > 3, 1, 0))\n",
    "data2 = np.array(np.where(data.loc[data.m == 'B']['n'] > 3, 1, 0))"
   ]
  },
  {
   "cell_type": "code",
   "execution_count": 189,
   "metadata": {},
   "outputs": [],
   "source": [
    "def z_stat_diff_ind(s1, s2):\n",
    "    n1, n2 = len(s1), len(s2)\n",
    "    p1, p2 = float(sum(s1)) / n1, float(sum(s2)) / n2\n",
    "    p = float(p1 * n1 + p2 * n2) / (n1 + n2)\n",
    "    return (p1 - p2) / np.sqrt(p * (1 - p) * (1. / n1 + 1. / n2))"
   ]
  },
  {
   "cell_type": "code",
   "execution_count": 190,
   "metadata": {},
   "outputs": [],
   "source": [
    "def z_test_diff_prop(z_stat):\n",
    "    return stats.norm.cdf(z_stat)"
   ]
  },
  {
   "cell_type": "code",
   "execution_count": 191,
   "metadata": {},
   "outputs": [
    {
     "name": "stdout",
     "output_type": "stream",
     "text": [
      "Prop z_test: 0.1483348567978996\n"
     ]
    }
   ],
   "source": [
    "print('Prop z_test:', z_test_diff_prop(z_stat_diff_ind(data1, data2)))"
   ]
  },
  {
   "cell_type": "code",
   "execution_count": 192,
   "metadata": {},
   "outputs": [],
   "source": [
    "def z_test_diff_rel(s1, s2):\n",
    "    s = list(zip(s1, s2))\n",
    "    n = len(s)\n",
    "    f = sum([1 if (x[0] == 1 and x[1] == 0) else 0 for x in s])\n",
    "    g = sum([1 if (x[0] == 0 and x[1] == 1) else 0 for x in s])\n",
    "    return float(f - g) / np.sqrt(f + g - float((f - g) ** 2) / n)"
   ]
  },
  {
   "cell_type": "code",
   "execution_count": 193,
   "metadata": {},
   "outputs": [
    {
     "name": "stdout",
     "output_type": "stream",
     "text": [
      "Prop z_test: 0.024068290801552455\n"
     ]
    }
   ],
   "source": [
    "print('Prop z_test:', z_test_diff_prop(z_test_diff_rel(data1, data2)))"
   ]
  },
  {
   "cell_type": "markdown",
   "metadata": {},
   "source": [
    "# Задача 2"
   ]
  },
  {
   "cell_type": "code",
   "execution_count": 194,
   "metadata": {},
   "outputs": [],
   "source": [
    "data3 = np.array(np.where(data.loc[data.v > 4]['n'] > 3, 1, 0))\n",
    "data4 = np.array(np.where(data.loc[data.v <= 4]['n'] > 3, 1, 0))"
   ]
  },
  {
   "cell_type": "code",
   "execution_count": 195,
   "metadata": {},
   "outputs": [
    {
     "name": "stdout",
     "output_type": "stream",
     "text": [
      "Prop z_test: 0.5\n"
     ]
    }
   ],
   "source": [
    "print('Prop z_test:', z_test_diff_prop(z_test_diff_rel(data3, data4)))"
   ]
  },
  {
   "cell_type": "code",
   "execution_count": 196,
   "metadata": {},
   "outputs": [
    {
     "name": "stdout",
     "output_type": "stream",
     "text": [
      "Prop z_test: 0.5897466750203396\n"
     ]
    }
   ],
   "source": [
    "print('Prop z_test:', z_test_diff_prop(z_stat_diff_ind(data3, data4)))"
   ]
  },
  {
   "cell_type": "code",
   "execution_count": null,
   "metadata": {},
   "outputs": [],
   "source": []
  }
 ],
 "metadata": {
  "kernelspec": {
   "display_name": "Python 3",
   "language": "python",
   "name": "python3"
  },
  "language_info": {
   "codemirror_mode": {
    "name": "ipython",
    "version": 3
   },
   "file_extension": ".py",
   "mimetype": "text/x-python",
   "name": "python",
   "nbconvert_exporter": "python",
   "pygments_lexer": "ipython3",
   "version": "3.7.2"
  }
 },
 "nbformat": 4,
 "nbformat_minor": 2
}
